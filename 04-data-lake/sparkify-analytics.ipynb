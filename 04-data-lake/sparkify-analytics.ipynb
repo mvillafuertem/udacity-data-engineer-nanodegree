{
 "cells": [
  {
   "cell_type": "markdown",
   "metadata": {},
   "source": [
    "# Sparkify analytics\n",
    "\n",
    "This notebook demonstrates how to\n",
    "* read parquet files from S3 storage into datafarames\n",
    "* create views and make SQL queries on these for insight\n",
    "* plot the results using matplotlib"
   ]
  },
  {
   "cell_type": "markdown",
   "metadata": {},
   "source": [
    "PySpark EMR notebooks do not have pandas and matplotlib pre-installed, so we need to install them using the `install_pypi_package` function found in *SparkContext*."
   ]
  },
  {
   "cell_type": "code",
   "execution_count": 1,
   "metadata": {},
   "outputs": [
    {
     "data": {
      "application/vnd.jupyter.widget-view+json": {
       "model_id": "ffcdc3069d3749b1a5b413a6e3bfc654",
       "version_major": 2,
       "version_minor": 0
      },
      "text/plain": [
       "VBox()"
      ]
     },
     "metadata": {},
     "output_type": "display_data"
    },
    {
     "name": "stdout",
     "output_type": "stream",
     "text": [
      "Starting Spark application\n"
     ]
    },
    {
     "data": {
      "text/html": [
       "<table>\n",
       "<tr><th>ID</th><th>YARN Application ID</th><th>Kind</th><th>State</th><th>Spark UI</th><th>Driver log</th><th>Current session?</th></tr><tr><td>3</td><td>application_1586238385395_0004</td><td>pyspark</td><td>idle</td><td><a target=\"_blank\" href=\"http://ip-172-31-25-180.us-west-2.compute.internal:20888/proxy/application_1586238385395_0004/\">Link</a></td><td><a target=\"_blank\" href=\"http://ip-172-31-23-80.us-west-2.compute.internal:8042/node/containerlogs/container_1586238385395_0004_01_000001/livy\">Link</a></td><td>✔</td></tr></table>"
      ],
      "text/plain": [
       "<IPython.core.display.HTML object>"
      ]
     },
     "metadata": {},
     "output_type": "display_data"
    },
    {
     "data": {
      "application/vnd.jupyter.widget-view+json": {
       "model_id": "4ae45e1d62304145823b3f1f49e761b2",
       "version_major": 2,
       "version_minor": 0
      },
      "text/plain": [
       "FloatProgress(value=0.0, bar_style='info', description='Progress:', layout=Layout(height='25px', width='50%'),…"
      ]
     },
     "metadata": {},
     "output_type": "display_data"
    },
    {
     "name": "stdout",
     "output_type": "stream",
     "text": [
      "SparkSession available as 'spark'.\n"
     ]
    },
    {
     "data": {
      "application/vnd.jupyter.widget-view+json": {
       "model_id": "",
       "version_major": 2,
       "version_minor": 0
      },
      "text/plain": [
       "FloatProgress(value=0.0, bar_style='info', description='Progress:', layout=Layout(height='25px', width='50%'),…"
      ]
     },
     "metadata": {},
     "output_type": "display_data"
    },
    {
     "name": "stdout",
     "output_type": "stream",
     "text": [
      "Collecting pandas\n",
      "  Using cached pandas-1.0.3-cp36-cp36m-manylinux1_x86_64.whl (10.0 MB)\n",
      "Collecting python-dateutil>=2.6.1\n",
      "  Using cached python_dateutil-2.8.1-py2.py3-none-any.whl (227 kB)\n",
      "Requirement already satisfied: numpy>=1.13.3 in /usr/local/lib64/python3.6/site-packages (from pandas) (1.14.5)\n",
      "Requirement already satisfied: pytz>=2017.2 in /usr/local/lib/python3.6/site-packages (from pandas) (2019.3)\n",
      "Requirement already satisfied: six>=1.5 in /usr/local/lib/python3.6/site-packages (from python-dateutil>=2.6.1->pandas) (1.13.0)\n",
      "Installing collected packages: python-dateutil, pandas\n",
      "Successfully installed pandas-1.0.3 python-dateutil-2.8.1\n",
      "\n",
      "Collecting matplotlib\n",
      "  Using cached matplotlib-3.2.1-cp36-cp36m-manylinux1_x86_64.whl (12.4 MB)\n",
      "Collecting pyparsing!=2.0.4,!=2.1.2,!=2.1.6,>=2.0.1\n",
      "  Using cached pyparsing-2.4.7-py2.py3-none-any.whl (67 kB)\n",
      "Requirement already satisfied: numpy>=1.11 in /usr/local/lib64/python3.6/site-packages (from matplotlib) (1.14.5)\n",
      "Requirement already satisfied: python-dateutil>=2.1 in /mnt/tmp/1586248337901-0/lib/python3.6/site-packages (from matplotlib) (2.8.1)\n",
      "Collecting kiwisolver>=1.0.1\n",
      "  Using cached kiwisolver-1.2.0-cp36-cp36m-manylinux1_x86_64.whl (88 kB)\n",
      "Collecting cycler>=0.10\n",
      "  Using cached cycler-0.10.0-py2.py3-none-any.whl (6.5 kB)\n",
      "Requirement already satisfied: six>=1.5 in /usr/local/lib/python3.6/site-packages (from python-dateutil>=2.1->matplotlib) (1.13.0)\n",
      "Installing collected packages: pyparsing, kiwisolver, cycler, matplotlib\n",
      "Successfully installed cycler-0.10.0 kiwisolver-1.2.0 matplotlib-3.2.1 pyparsing-2.4.7"
     ]
    }
   ],
   "source": [
    "sc.install_pypi_package(\"pandas\")\n",
    "sc.install_pypi_package(\"matplotlib\")"
   ]
  },
  {
   "cell_type": "markdown",
   "metadata": {},
   "source": [
    "Declare the imports we'll be utilizing in the notebook"
   ]
  },
  {
   "cell_type": "code",
   "execution_count": 2,
   "metadata": {},
   "outputs": [
    {
     "data": {
      "application/vnd.jupyter.widget-view+json": {
       "model_id": "637df38820ab41e6b566bc760fea59de",
       "version_major": 2,
       "version_minor": 0
      },
      "text/plain": [
       "VBox()"
      ]
     },
     "metadata": {},
     "output_type": "display_data"
    },
    {
     "data": {
      "application/vnd.jupyter.widget-view+json": {
       "model_id": "",
       "version_major": 2,
       "version_minor": 0
      },
      "text/plain": [
       "FloatProgress(value=0.0, bar_style='info', description='Progress:', layout=Layout(height='25px', width='50%'),…"
      ]
     },
     "metadata": {},
     "output_type": "display_data"
    }
   ],
   "source": [
    "import os\n",
    "import datetime as dt\n",
    "import matplotlib.pyplot as plt\n",
    "import pandas as pd"
   ]
  },
  {
   "cell_type": "markdown",
   "metadata": {},
   "source": [
    "## Read data into DataFrames\n",
    "\n",
    "Next we will read all the tables from the storage into dataframes, print their schema and top rows to get a better view of the video.\n",
    "\n",
    "The tables to load are:\n",
    "* songs\n",
    "* artists\n",
    "* users\n",
    "* time\n",
    "* songplays"
   ]
  },
  {
   "cell_type": "code",
   "execution_count": 3,
   "metadata": {},
   "outputs": [
    {
     "data": {
      "application/vnd.jupyter.widget-view+json": {
       "model_id": "550968624d2843adb5d64daf107da8c8",
       "version_major": 2,
       "version_minor": 0
      },
      "text/plain": [
       "VBox()"
      ]
     },
     "metadata": {},
     "output_type": "display_data"
    },
    {
     "data": {
      "application/vnd.jupyter.widget-view+json": {
       "model_id": "",
       "version_major": 2,
       "version_minor": 0
      },
      "text/plain": [
       "FloatProgress(value=0.0, bar_style='info', description='Progress:', layout=Layout(height='25px', width='50%'),…"
      ]
     },
     "metadata": {},
     "output_type": "display_data"
    }
   ],
   "source": [
    "bucket_base_path = \"s3://dend-tomra/sparkify/analytics\""
   ]
  },
  {
   "cell_type": "code",
   "execution_count": 4,
   "metadata": {},
   "outputs": [
    {
     "data": {
      "application/vnd.jupyter.widget-view+json": {
       "model_id": "0b844fdca8e0412cbf2a9f84d229a052",
       "version_major": 2,
       "version_minor": 0
      },
      "text/plain": [
       "VBox()"
      ]
     },
     "metadata": {},
     "output_type": "display_data"
    },
    {
     "data": {
      "application/vnd.jupyter.widget-view+json": {
       "model_id": "",
       "version_major": 2,
       "version_minor": 0
      },
      "text/plain": [
       "FloatProgress(value=0.0, bar_style='info', description='Progress:', layout=Layout(height='25px', width='50%'),…"
      ]
     },
     "metadata": {},
     "output_type": "display_data"
    },
    {
     "name": "stdout",
     "output_type": "stream",
     "text": [
      "root\n",
      " |-- song_id: string (nullable = true)\n",
      " |-- title: string (nullable = true)\n",
      " |-- duration: double (nullable = true)\n",
      " |-- year: integer (nullable = true)\n",
      " |-- artist_id: string (nullable = true)\n",
      "\n",
      "+------------------+--------------------+---------+----+------------------+\n",
      "|           song_id|               title| duration|year|         artist_id|\n",
      "+------------------+--------------------+---------+----+------------------+\n",
      "|SOVVCEK12A6D4F6373|Everything You Al...|165.98159|   0|ARRL7WS1187FB576F1|\n",
      "|SOVUIHM12A8C13E3AB|Symphony No. 3 in...|458.08281|   0|AR820DX11C8A4157C3|\n",
      "|SOCHPTV12A6BD53113|Die Kunst der Fug...|172.38159|   0|ARN8NCB1187FB49652|\n",
      "|SOMZGJO12A8C13676E|Stomp Remix (feat...|206.96771|   0|ARRFBPZ1187B9B8263|\n",
      "|SOMXTYR12A6D4FA639|Creating Somethin...|382.04036|   0|ARQ5W4H1187B99E4A4|\n",
      "+------------------+--------------------+---------+----+------------------+\n",
      "only showing top 5 rows"
     ]
    }
   ],
   "source": [
    "df_songs = spark.read.parquet(os.path.join(bucket_base_path, \"songs\"))\n",
    "df_songs.printSchema()\n",
    "df_songs.show(5)"
   ]
  },
  {
   "cell_type": "code",
   "execution_count": 5,
   "metadata": {},
   "outputs": [
    {
     "data": {
      "application/vnd.jupyter.widget-view+json": {
       "model_id": "84c9869dad0c456fbee10de95afe7c1f",
       "version_major": 2,
       "version_minor": 0
      },
      "text/plain": [
       "VBox()"
      ]
     },
     "metadata": {},
     "output_type": "display_data"
    },
    {
     "data": {
      "application/vnd.jupyter.widget-view+json": {
       "model_id": "",
       "version_major": 2,
       "version_minor": 0
      },
      "text/plain": [
       "FloatProgress(value=0.0, bar_style='info', description='Progress:', layout=Layout(height='25px', width='50%'),…"
      ]
     },
     "metadata": {},
     "output_type": "display_data"
    },
    {
     "name": "stdout",
     "output_type": "stream",
     "text": [
      "root\n",
      " |-- artist_id: string (nullable = true)\n",
      " |-- name: string (nullable = true)\n",
      " |-- location: string (nullable = true)\n",
      " |-- latitude: double (nullable = true)\n",
      " |-- longitude: double (nullable = true)\n",
      "\n",
      "+------------------+--------------------+--------------------+--------+----------+\n",
      "|         artist_id|                name|            location|latitude| longitude|\n",
      "+------------------+--------------------+--------------------+--------+----------+\n",
      "|AR6PJ8R1187FB5AD70|Shakira Featuring...|Barranquilla, Col...|    null|      null|\n",
      "|ARVKQUH121318C5AD2|The Watts 103rd. ...|                    |    null|      null|\n",
      "|AR10USD1187B99F3F1|         Silverstein|Burlington, Ontar...|    null|      null|\n",
      "|ARERLPG1187FB3BB39|           Tom Waits|          Pomona, CA|34.05464|-117.75002|\n",
      "|AR225QF1187B9B351E|      Bernhard Brink|            Kent, OH|41.15093| -81.35822|\n",
      "+------------------+--------------------+--------------------+--------+----------+\n",
      "only showing top 5 rows"
     ]
    }
   ],
   "source": [
    "df_artists = spark.read.parquet(os.path.join(bucket_base_path, \"artists\"))\n",
    "df_artists.printSchema()\n",
    "df_artists.show(5)"
   ]
  },
  {
   "cell_type": "code",
   "execution_count": 6,
   "metadata": {},
   "outputs": [
    {
     "data": {
      "application/vnd.jupyter.widget-view+json": {
       "model_id": "722d3d96730e4fe88f15dea36d325a25",
       "version_major": 2,
       "version_minor": 0
      },
      "text/plain": [
       "VBox()"
      ]
     },
     "metadata": {},
     "output_type": "display_data"
    },
    {
     "data": {
      "application/vnd.jupyter.widget-view+json": {
       "model_id": "",
       "version_major": 2,
       "version_minor": 0
      },
      "text/plain": [
       "FloatProgress(value=0.0, bar_style='info', description='Progress:', layout=Layout(height='25px', width='50%'),…"
      ]
     },
     "metadata": {},
     "output_type": "display_data"
    },
    {
     "name": "stdout",
     "output_type": "stream",
     "text": [
      "root\n",
      " |-- user_id: string (nullable = true)\n",
      " |-- first_name: string (nullable = true)\n",
      " |-- last_name: string (nullable = true)\n",
      " |-- gender: string (nullable = true)\n",
      " |-- level: string (nullable = true)\n",
      "\n",
      "+-------+----------+---------+------+-----+\n",
      "|user_id|first_name|last_name|gender|level|\n",
      "+-------+----------+---------+------+-----+\n",
      "|     52|  Theodore|    Smith|     M| free|\n",
      "|      2|   Jizelle| Benjamin|     F| free|\n",
      "|     61|    Samuel| Gonzalez|     M| free|\n",
      "|     14|  Theodore|   Harris|     M| free|\n",
      "|     40|    Tucker| Garrison|     M| free|\n",
      "+-------+----------+---------+------+-----+\n",
      "only showing top 5 rows"
     ]
    }
   ],
   "source": [
    "df_users = spark.read.parquet(os.path.join(bucket_base_path, \"users\"))\n",
    "df_users.printSchema()\n",
    "df_users.show(5)"
   ]
  },
  {
   "cell_type": "code",
   "execution_count": 7,
   "metadata": {},
   "outputs": [
    {
     "data": {
      "application/vnd.jupyter.widget-view+json": {
       "model_id": "3c02ec9511674f5f964111393b39db24",
       "version_major": 2,
       "version_minor": 0
      },
      "text/plain": [
       "VBox()"
      ]
     },
     "metadata": {},
     "output_type": "display_data"
    },
    {
     "data": {
      "application/vnd.jupyter.widget-view+json": {
       "model_id": "",
       "version_major": 2,
       "version_minor": 0
      },
      "text/plain": [
       "FloatProgress(value=0.0, bar_style='info', description='Progress:', layout=Layout(height='25px', width='50%'),…"
      ]
     },
     "metadata": {},
     "output_type": "display_data"
    },
    {
     "name": "stdout",
     "output_type": "stream",
     "text": [
      "root\n",
      " |-- start_time: integer (nullable = true)\n",
      " |-- hour: integer (nullable = true)\n",
      " |-- day: integer (nullable = true)\n",
      " |-- week: integer (nullable = true)\n",
      " |-- weekday: integer (nullable = true)\n",
      " |-- year: integer (nullable = true)\n",
      " |-- month: integer (nullable = true)\n",
      "\n",
      "+----------+----+---+----+-------+----+-----+\n",
      "|start_time|hour|day|week|weekday|year|month|\n",
      "+----------+----+---+----+-------+----+-----+\n",
      "|2018112700|   0| 27|  48|      3|2018|   11|\n",
      "|2018110612|  12|  6|  45|      3|2018|   11|\n",
      "|2018112106|   6| 21|  47|      4|2018|   11|\n",
      "|2018112404|   4| 24|  47|      7|2018|   11|\n",
      "|2018110819|  19|  8|  45|      5|2018|   11|\n",
      "+----------+----+---+----+-------+----+-----+\n",
      "only showing top 5 rows"
     ]
    }
   ],
   "source": [
    "df_time = spark.read.parquet(os.path.join(bucket_base_path, \"time\"))\n",
    "df_time.printSchema()\n",
    "df_time.show(5)"
   ]
  },
  {
   "cell_type": "code",
   "execution_count": 8,
   "metadata": {},
   "outputs": [
    {
     "data": {
      "application/vnd.jupyter.widget-view+json": {
       "model_id": "d622fac002104a26bf09859a08d407ea",
       "version_major": 2,
       "version_minor": 0
      },
      "text/plain": [
       "VBox()"
      ]
     },
     "metadata": {},
     "output_type": "display_data"
    },
    {
     "data": {
      "application/vnd.jupyter.widget-view+json": {
       "model_id": "",
       "version_major": 2,
       "version_minor": 0
      },
      "text/plain": [
       "FloatProgress(value=0.0, bar_style='info', description='Progress:', layout=Layout(height='25px', width='50%'),…"
      ]
     },
     "metadata": {},
     "output_type": "display_data"
    },
    {
     "name": "stdout",
     "output_type": "stream",
     "text": [
      "root\n",
      " |-- start_time: integer (nullable = true)\n",
      " |-- user_id: string (nullable = true)\n",
      " |-- level: string (nullable = true)\n",
      " |-- song_id: string (nullable = true)\n",
      " |-- artist_id: string (nullable = true)\n",
      " |-- session_id: long (nullable = true)\n",
      " |-- location: string (nullable = true)\n",
      " |-- user_agent: string (nullable = true)\n",
      " |-- year: integer (nullable = true)\n",
      " |-- month: integer (nullable = true)\n",
      "\n",
      "+----------+-------+-----+------------------+------------------+----------+--------------------+--------------------+----+-----+\n",
      "|start_time|user_id|level|           song_id|         artist_id|session_id|            location|          user_agent|year|month|\n",
      "+----------+-------+-----+------------------+------------------+----------+--------------------+--------------------+----+-----+\n",
      "|2018111715|     73| paid|SONQLSC12AB01816E0|ARQFJDL1187B98BF86|       518|Tampa-St. Petersb...|\"Mozilla/5.0 (Mac...|2018|   11|\n",
      "|2018113012|     61| free|SOJDXQI12AF72A580E|AR048JZ1187B9AEB85|      1064|Houston-The Woodl...|\"Mozilla/5.0 (Mac...|2018|   11|\n",
      "|2018112414|     95| paid|SOFZZKJ12A6701D935|ARDAHWH1187FB4B0E7|       564|   Winston-Salem, NC|\"Mozilla/5.0 (iPh...|2018|   11|\n",
      "|2018111322|     95| paid|SOBRSQO12AB017F8E7|ARN5LYA1187FB4594A|       411|   Winston-Salem, NC|\"Mozilla/5.0 (iPh...|2018|   11|\n",
      "|2018111320|     95| paid|SOHTQAS12A6701C7BA|AR12F2S1187FB56EEF|       411|   Winston-Salem, NC|\"Mozilla/5.0 (iPh...|2018|   11|\n",
      "+----------+-------+-----+------------------+------------------+----------+--------------------+--------------------+----+-----+\n",
      "only showing top 5 rows"
     ]
    }
   ],
   "source": [
    "df_songplays = spark.read.parquet(os.path.join(bucket_base_path, \"songplays\"))\n",
    "df_songplays.printSchema()\n",
    "df_songplays.show(5)"
   ]
  },
  {
   "cell_type": "markdown",
   "metadata": {},
   "source": [
    "## Create views for SQL queries\n",
    "\n",
    "Next, we'll create views of our DataFrames in order to execute Spark SQL queries as well as make a few simple queries for checking that everything works"
   ]
  },
  {
   "cell_type": "code",
   "execution_count": 9,
   "metadata": {},
   "outputs": [
    {
     "data": {
      "application/vnd.jupyter.widget-view+json": {
       "model_id": "c48016e5a0254c348f2c07bc516ab1e6",
       "version_major": 2,
       "version_minor": 0
      },
      "text/plain": [
       "VBox()"
      ]
     },
     "metadata": {},
     "output_type": "display_data"
    },
    {
     "data": {
      "application/vnd.jupyter.widget-view+json": {
       "model_id": "",
       "version_major": 2,
       "version_minor": 0
      },
      "text/plain": [
       "FloatProgress(value=0.0, bar_style='info', description='Progress:', layout=Layout(height='25px', width='50%'),…"
      ]
     },
     "metadata": {},
     "output_type": "display_data"
    }
   ],
   "source": [
    "df_songs.createOrReplaceTempView(\"songs\")\n",
    "df_artists.createOrReplaceTempView(\"artists\")\n",
    "df_users.createOrReplaceTempView(\"users\")\n",
    "df_time.createOrReplaceTempView(\"time\")\n",
    "df_songplays.createOrReplaceTempView(\"songplays\")"
   ]
  },
  {
   "cell_type": "code",
   "execution_count": 10,
   "metadata": {},
   "outputs": [
    {
     "data": {
      "application/vnd.jupyter.widget-view+json": {
       "model_id": "4fcb8cb2db4f4e40b45b8fd98235549a",
       "version_major": 2,
       "version_minor": 0
      },
      "text/plain": [
       "VBox()"
      ]
     },
     "metadata": {},
     "output_type": "display_data"
    },
    {
     "data": {
      "application/vnd.jupyter.widget-view+json": {
       "model_id": "",
       "version_major": 2,
       "version_minor": 0
      },
      "text/plain": [
       "FloatProgress(value=0.0, bar_style='info', description='Progress:', layout=Layout(height='25px', width='50%'),…"
      ]
     },
     "metadata": {},
     "output_type": "display_data"
    },
    {
     "name": "stdout",
     "output_type": "stream",
     "text": [
      "+--------------+\n",
      "|count(song_id)|\n",
      "+--------------+\n",
      "|           333|\n",
      "+--------------+"
     ]
    }
   ],
   "source": [
    "# Check the amount of songplays.\n",
    "spark.sql(\"\"\"\n",
    "    SELECT\n",
    "        COUNT(song_id)\n",
    "    FROM \n",
    "        songplays\n",
    "\"\"\").show()"
   ]
  },
  {
   "cell_type": "code",
   "execution_count": 11,
   "metadata": {},
   "outputs": [
    {
     "data": {
      "application/vnd.jupyter.widget-view+json": {
       "model_id": "5b5caf44c9d2428a937a9a6519a713bb",
       "version_major": 2,
       "version_minor": 0
      },
      "text/plain": [
       "VBox()"
      ]
     },
     "metadata": {},
     "output_type": "display_data"
    },
    {
     "data": {
      "application/vnd.jupyter.widget-view+json": {
       "model_id": "",
       "version_major": 2,
       "version_minor": 0
      },
      "text/plain": [
       "FloatProgress(value=0.0, bar_style='info', description='Progress:', layout=Layout(height='25px', width='50%'),…"
      ]
     },
     "metadata": {},
     "output_type": "display_data"
    },
    {
     "name": "stdout",
     "output_type": "stream",
     "text": [
      "+--------------------+---------+\n",
      "|                name|playcount|\n",
      "+--------------------+---------+\n",
      "|       Dwight Yoakam|       37|\n",
      "|            Kid Cudi|       10|\n",
      "|Kid Cudi / Kanye ...|       10|\n",
      "|          Ron Carter|        9|\n",
      "|       Lonnie Gordon|        9|\n",
      "|               B.o.B|        8|\n",
      "|                Muse|        6|\n",
      "|               Usher|        6|\n",
      "|Usher featuring J...|        6|\n",
      "|Richard Hawley An...|        5|\n",
      "+--------------------+---------+"
     ]
    }
   ],
   "source": [
    "# Top 10 artists by songs played\n",
    "spark.sql(\"\"\"\n",
    "    SELECT\n",
    "        a.name,\n",
    "        COUNT(a.artist_id) as playcount\n",
    "    FROM \n",
    "        songplays s\n",
    "    INNER JOIN\n",
    "        artists a ON (s.artist_id=a.artist_id)\n",
    "    GROUP BY\n",
    "        a.name\n",
    "    ORDER BY\n",
    "        playcount DESC\n",
    "    LIMIT 10\n",
    "\"\"\").show()"
   ]
  },
  {
   "cell_type": "markdown",
   "metadata": {},
   "source": [
    "## Visualizing your results\n",
    "\n",
    "Finally, we'll take a look at how the query results can be visualized.\n",
    "\n",
    "We use the Pandas `plot` function to draw graphs. Pandas and EMR Notebooks rely on the *matplotlib* library and notebook magic to show the graphs."
   ]
  },
  {
   "cell_type": "markdown",
   "metadata": {},
   "source": [
    "### Songs played per day"
   ]
  },
  {
   "cell_type": "code",
   "execution_count": 12,
   "metadata": {},
   "outputs": [
    {
     "data": {
      "application/vnd.jupyter.widget-view+json": {
       "model_id": "640797c82bba43f1955b9939abfb2fa9",
       "version_major": 2,
       "version_minor": 0
      },
      "text/plain": [
       "VBox()"
      ]
     },
     "metadata": {},
     "output_type": "display_data"
    },
    {
     "data": {
      "application/vnd.jupyter.widget-view+json": {
       "model_id": "",
       "version_major": 2,
       "version_minor": 0
      },
      "text/plain": [
       "FloatProgress(value=0.0, bar_style='info', description='Progress:', layout=Layout(height='25px', width='50%'),…"
      ]
     },
     "metadata": {},
     "output_type": "display_data"
    }
   ],
   "source": [
    "df_by_date = spark.sql(\"\"\"\n",
    "    SELECT\n",
    "        t.year,\n",
    "        t.month,\n",
    "        t.day,\n",
    "        COUNT(s.song_id) as playcount\n",
    "    FROM \n",
    "        songplays s\n",
    "    INNER JOIN\n",
    "        time t ON (s.start_time=t.start_time)\n",
    "    GROUP BY\n",
    "        t.year, t.month, t.day\n",
    "\"\"\").toPandas()"
   ]
  },
  {
   "cell_type": "code",
   "execution_count": 13,
   "metadata": {},
   "outputs": [
    {
     "data": {
      "application/vnd.jupyter.widget-view+json": {
       "model_id": "a518d68a57cb4020a50125699afa9189",
       "version_major": 2,
       "version_minor": 0
      },
      "text/plain": [
       "VBox()"
      ]
     },
     "metadata": {},
     "output_type": "display_data"
    },
    {
     "data": {
      "application/vnd.jupyter.widget-view+json": {
       "model_id": "",
       "version_major": 2,
       "version_minor": 0
      },
      "text/plain": [
       "FloatProgress(value=0.0, bar_style='info', description='Progress:', layout=Layout(height='25px', width='50%'),…"
      ]
     },
     "metadata": {},
     "output_type": "display_data"
    },
    {
     "data": {
      "image/png": "[encoded data removed]",
      "text/plain": [
       "<IPython.core.display.Image object>"
      ]
     },
     "metadata": {},
     "output_type": "display_data"
    }
   ],
   "source": [
    "# create a pandas datetime column from extracted year, month and day columns\n",
    "df_by_date['date'] = df_by_date.apply(lambda row: dt.datetime(row[0], row[1], row[2]), axis=1)\n",
    "\n",
    "# visualize the data\n",
    "plt.clf()\n",
    "df_by_date.plot(kind=\"line\", x=\"date\",y=\"playcount\")\n",
    "%matplot plt"
   ]
  },
  {
   "cell_type": "markdown",
   "metadata": {},
   "source": [
    "### Songs played by hour"
   ]
  },
  {
   "cell_type": "code",
   "execution_count": 14,
   "metadata": {},
   "outputs": [
    {
     "data": {
      "application/vnd.jupyter.widget-view+json": {
       "model_id": "950ae2d972a749ba9a6cc0328b9ac883",
       "version_major": 2,
       "version_minor": 0
      },
      "text/plain": [
       "VBox()"
      ]
     },
     "metadata": {},
     "output_type": "display_data"
    },
    {
     "data": {
      "application/vnd.jupyter.widget-view+json": {
       "model_id": "",
       "version_major": 2,
       "version_minor": 0
      },
      "text/plain": [
       "FloatProgress(value=0.0, bar_style='info', description='Progress:', layout=Layout(height='25px', width='50%'),…"
      ]
     },
     "metadata": {},
     "output_type": "display_data"
    }
   ],
   "source": [
    "df_by_hour = spark.sql(\"\"\"\n",
    "    SELECT\n",
    "        t.hour,\n",
    "        COUNT(s.song_id) as playcount\n",
    "    FROM \n",
    "        songplays s\n",
    "    INNER JOIN\n",
    "        time t ON (s.start_time=t.start_time)\n",
    "    GROUP BY\n",
    "        t.hour\n",
    "\"\"\").toPandas()"
   ]
  },
  {
   "cell_type": "code",
   "execution_count": 15,
   "metadata": {},
   "outputs": [
    {
     "data": {
      "application/vnd.jupyter.widget-view+json": {
       "model_id": "5f5bc109016640ee99e1d665ed6a493d",
       "version_major": 2,
       "version_minor": 0
      },
      "text/plain": [
       "VBox()"
      ]
     },
     "metadata": {},
     "output_type": "display_data"
    },
    {
     "data": {
      "application/vnd.jupyter.widget-view+json": {
       "model_id": "",
       "version_major": 2,
       "version_minor": 0
      },
      "text/plain": [
       "FloatProgress(value=0.0, bar_style='info', description='Progress:', layout=Layout(height='25px', width='50%'),…"
      ]
     },
     "metadata": {},
     "output_type": "display_data"
    },
    {
     "data": {
      "image/png": "[encoded data removed]",
      "text/plain": [
       "<IPython.core.display.Image object>"
      ]
     },
     "metadata": {},
     "output_type": "display_data"
    }
   ],
   "source": [
    "plt.clf()\n",
    "df_by_hour.plot(kind=\"scatter\", x=\"hour\",y=\"playcount\")\n",
    "%matplot plt"
   ]
  },
  {
   "cell_type": "code",
   "execution_count": null,
   "metadata": {},
   "outputs": [],
   "source": []
  }
 ],
 "metadata": {
  "kernelspec": {
   "display_name": "PySpark",
   "language": "",
   "name": "pysparkkernel"
  },
  "language_info": {
   "codemirror_mode": {
    "name": "python",
    "version": 2
   },
   "mimetype": "text/x-python",
   "name": "pyspark",
   "pygments_lexer": "python2"
  }
 },
 "nbformat": 4,
 "nbformat_minor": 4
}
