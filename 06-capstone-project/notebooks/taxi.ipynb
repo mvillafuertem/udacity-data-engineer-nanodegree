{
 "nbformat": 4,
 "nbformat_minor": 2,
 "metadata": {
  "language_info": {
   "name": "python",
   "codemirror_mode": {
    "name": "ipython",
    "version": 3
   },
   "version": "3.7.7-final"
  },
  "orig_nbformat": 2,
  "file_extension": ".py",
  "mimetype": "text/x-python",
  "name": "python",
  "npconvert_exporter": "python",
  "pygments_lexer": "ipython3",
  "version": 3,
  "kernelspec": {
   "name": "python37764bitdendcondacf54d56bf2ff408b9345a9eba404596b",
   "display_name": "Python 3.7.7 64-bit ('dend': conda)"
  }
 },
 "cells": [
  {
   "cell_type": "markdown",
   "metadata": {},
   "source": [
    "# Initial data analysis of Taxi rides\n",
    "This notebook contains EDA of Taxi data in order to gain information for the ETL process"
   ]
  },
  {
   "cell_type": "code",
   "execution_count": 2,
   "metadata": {},
   "outputs": [],
   "source": [
    "import os\n",
    "import pandas as pd\n",
    "from pyspark.sql import SparkSession\n",
    "\n",
    "spark = SparkSession.builder \\\n",
    "    .master('local') \\\n",
    "    .appName('taxi') \\\n",
    "    .getOrCreate()"
   ]
  },
  {
   "cell_type": "markdown",
   "metadata": {},
   "source": [
    "We begin by reading one month's data and:\n",
    "* take a look at the dataframe schema\n",
    "* peek at the top rows\n",
    "* check how much data we are dealing with"
   ]
  },
  {
   "cell_type": "code",
   "execution_count": 7,
   "metadata": {},
   "outputs": [
    {
     "output_type": "stream",
     "name": "stdout",
     "text": "root\n |-- taxi_id: integer (nullable = true)\n |-- trip_start_timestamp: timestamp (nullable = true)\n |-- trip_end_timestamp: timestamp (nullable = true)\n |-- trip_seconds: integer (nullable = true)\n |-- trip_miles: double (nullable = true)\n |-- pickup_census_tract: string (nullable = true)\n |-- dropoff_census_tract: integer (nullable = true)\n |-- pickup_community_area: integer (nullable = true)\n |-- dropoff_community_area: integer (nullable = true)\n |-- fare: double (nullable = true)\n |-- tips: double (nullable = true)\n |-- tolls: double (nullable = true)\n |-- extras: double (nullable = true)\n |-- trip_total: double (nullable = true)\n |-- payment_type: string (nullable = true)\n |-- company: integer (nullable = true)\n |-- pickup_latitude: integer (nullable = true)\n |-- pickup_longitude: integer (nullable = true)\n |-- dropoff_latitude: integer (nullable = true)\n |-- dropoff_longitude: integer (nullable = true)\n\n"
    }
   ],
   "source": [
    "data_folder = '/Users/tomra/Projects/data-engineering/udacity-data-engineer-nanodegree/06-capstone-project/data'\n",
    "df = spark.read \\\n",
    "    .format('csv') \\\n",
    "    .options(header=True, inferSchema=True) \\\n",
    "    .load(os.path.join(data_folder, 'chicago-taxi-rides-2016', 'chicago_taxi_trips_2016_01.csv'))\n",
    "df.printSchema()"
   ]
  },
  {
   "cell_type": "code",
   "execution_count": 12,
   "metadata": {},
   "outputs": [
    {
     "output_type": "execute_result",
     "data": {
      "text/plain": "   taxi_id trip_start_timestamp  trip_end_timestamp  trip_seconds  trip_miles  \\\n0       85  2016-01-13 06:15:00 2016-01-13 06:15:00           180        0.40   \n1     2776  2016-01-22 09:30:00 2016-01-22 09:45:00           240        0.70   \n2     3168  2016-01-31 21:30:00 2016-01-31 21:30:00             0        0.00   \n3     4237  2016-01-23 17:30:00 2016-01-23 17:30:00           480        1.10   \n4     5710  2016-01-14 05:45:00 2016-01-14 06:00:00           480        2.71   \n\n  pickup_census_tract dropoff_census_tract  pickup_community_area  \\\n0                None                 None                   24.0   \n1                None                 None                    NaN   \n2                None                 None                    NaN   \n3                None                 None                    6.0   \n4                None                 None                   32.0   \n\n   dropoff_community_area   fare  tips  tolls  extras  trip_total  \\\n0                    24.0   4.50  0.00    0.0     0.0        4.50   \n1                     NaN   4.45  4.45    0.0     0.0        8.90   \n2                     NaN  42.75  5.00    0.0     0.0       47.75   \n3                     6.0   7.00  0.00    0.0     0.0        7.00   \n4                     NaN  10.25  0.00    0.0     0.0       10.25   \n\n  payment_type  company  pickup_latitude  pickup_longitude  dropoff_latitude  \\\n0         Cash    107.0            199.0             510.0             199.0   \n1  Credit Card      NaN              NaN               NaN               NaN   \n2  Credit Card    119.0              NaN               NaN               NaN   \n3         Cash      NaN            686.0             500.0             686.0   \n4         Cash      NaN            385.0             478.0               NaN   \n\n   dropoff_longitude  \n0              510.0  \n1                NaN  \n2                NaN  \n3              500.0  \n4                NaN  ",
      "text/html": "<div>\n<style scoped>\n    .dataframe tbody tr th:only-of-type {\n        vertical-align: middle;\n    }\n\n    .dataframe tbody tr th {\n        vertical-align: top;\n    }\n\n    .dataframe thead th {\n        text-align: right;\n    }\n</style>\n<table border=\"1\" class=\"dataframe\">\n  <thead>\n    <tr style=\"text-align: right;\">\n      <th></th>\n      <th>taxi_id</th>\n      <th>trip_start_timestamp</th>\n      <th>trip_end_timestamp</th>\n      <th>trip_seconds</th>\n      <th>trip_miles</th>\n      <th>pickup_census_tract</th>\n      <th>dropoff_census_tract</th>\n      <th>pickup_community_area</th>\n      <th>dropoff_community_area</th>\n      <th>fare</th>\n      <th>tips</th>\n      <th>tolls</th>\n      <th>extras</th>\n      <th>trip_total</th>\n      <th>payment_type</th>\n      <th>company</th>\n      <th>pickup_latitude</th>\n      <th>pickup_longitude</th>\n      <th>dropoff_latitude</th>\n      <th>dropoff_longitude</th>\n    </tr>\n  </thead>\n  <tbody>\n    <tr>\n      <th>0</th>\n      <td>85</td>\n      <td>2016-01-13 06:15:00</td>\n      <td>2016-01-13 06:15:00</td>\n      <td>180</td>\n      <td>0.40</td>\n      <td>None</td>\n      <td>None</td>\n      <td>24.0</td>\n      <td>24.0</td>\n      <td>4.50</td>\n      <td>0.00</td>\n      <td>0.0</td>\n      <td>0.0</td>\n      <td>4.50</td>\n      <td>Cash</td>\n      <td>107.0</td>\n      <td>199.0</td>\n      <td>510.0</td>\n      <td>199.0</td>\n      <td>510.0</td>\n    </tr>\n    <tr>\n      <th>1</th>\n      <td>2776</td>\n      <td>2016-01-22 09:30:00</td>\n      <td>2016-01-22 09:45:00</td>\n      <td>240</td>\n      <td>0.70</td>\n      <td>None</td>\n      <td>None</td>\n      <td>NaN</td>\n      <td>NaN</td>\n      <td>4.45</td>\n      <td>4.45</td>\n      <td>0.0</td>\n      <td>0.0</td>\n      <td>8.90</td>\n      <td>Credit Card</td>\n      <td>NaN</td>\n      <td>NaN</td>\n      <td>NaN</td>\n      <td>NaN</td>\n      <td>NaN</td>\n    </tr>\n    <tr>\n      <th>2</th>\n      <td>3168</td>\n      <td>2016-01-31 21:30:00</td>\n      <td>2016-01-31 21:30:00</td>\n      <td>0</td>\n      <td>0.00</td>\n      <td>None</td>\n      <td>None</td>\n      <td>NaN</td>\n      <td>NaN</td>\n      <td>42.75</td>\n      <td>5.00</td>\n      <td>0.0</td>\n      <td>0.0</td>\n      <td>47.75</td>\n      <td>Credit Card</td>\n      <td>119.0</td>\n      <td>NaN</td>\n      <td>NaN</td>\n      <td>NaN</td>\n      <td>NaN</td>\n    </tr>\n    <tr>\n      <th>3</th>\n      <td>4237</td>\n      <td>2016-01-23 17:30:00</td>\n      <td>2016-01-23 17:30:00</td>\n      <td>480</td>\n      <td>1.10</td>\n      <td>None</td>\n      <td>None</td>\n      <td>6.0</td>\n      <td>6.0</td>\n      <td>7.00</td>\n      <td>0.00</td>\n      <td>0.0</td>\n      <td>0.0</td>\n      <td>7.00</td>\n      <td>Cash</td>\n      <td>NaN</td>\n      <td>686.0</td>\n      <td>500.0</td>\n      <td>686.0</td>\n      <td>500.0</td>\n    </tr>\n    <tr>\n      <th>4</th>\n      <td>5710</td>\n      <td>2016-01-14 05:45:00</td>\n      <td>2016-01-14 06:00:00</td>\n      <td>480</td>\n      <td>2.71</td>\n      <td>None</td>\n      <td>None</td>\n      <td>32.0</td>\n      <td>NaN</td>\n      <td>10.25</td>\n      <td>0.00</td>\n      <td>0.0</td>\n      <td>0.0</td>\n      <td>10.25</td>\n      <td>Cash</td>\n      <td>NaN</td>\n      <td>385.0</td>\n      <td>478.0</td>\n      <td>NaN</td>\n      <td>NaN</td>\n    </tr>\n  </tbody>\n</table>\n</div>"
     },
     "metadata": {},
     "execution_count": 12
    }
   ],
   "source": [
    "df.limit(5).toPandas()"
   ]
  },
  {
   "cell_type": "code",
   "execution_count": 9,
   "metadata": {},
   "outputs": [
    {
     "output_type": "stream",
     "name": "stdout",
     "text": "Total amount of records in January: 1705805\n"
    }
   ],
   "source": [
    "print(f\"Total amount of records in January: {df.count()}\")"
   ]
  },
  {
   "cell_type": "markdown",
   "metadata": {},
   "source": [
    "## Check amount of null values\n",
    "Next we check how many NULL values exist in the dataset to determine how to handle them."
   ]
  },
  {
   "cell_type": "code",
   "execution_count": 23,
   "metadata": {},
   "outputs": [
    {
     "output_type": "execute_result",
     "data": {
      "text/plain": "   taxi_id  trip_start_timestamp  trip_end_timestamp  trip_seconds  \\\n0       23                     0                 125           314   \n\n   trip_miles  pickup_census_tract  dropoff_census_tract  \\\n0          14              1705805                738326   \n\n   pickup_community_area  dropoff_community_area  fare  tips  tolls  extras  \\\n0                 285789                  313655    33    33     33      33   \n\n   trip_total  payment_type  company  pickup_latitude  pickup_longitude  \\\n0          33             0   632726           285757            285757   \n\n   dropoff_latitude  dropoff_longitude  \n0            311682             311682  ",
      "text/html": "<div>\n<style scoped>\n    .dataframe tbody tr th:only-of-type {\n        vertical-align: middle;\n    }\n\n    .dataframe tbody tr th {\n        vertical-align: top;\n    }\n\n    .dataframe thead th {\n        text-align: right;\n    }\n</style>\n<table border=\"1\" class=\"dataframe\">\n  <thead>\n    <tr style=\"text-align: right;\">\n      <th></th>\n      <th>taxi_id</th>\n      <th>trip_start_timestamp</th>\n      <th>trip_end_timestamp</th>\n      <th>trip_seconds</th>\n      <th>trip_miles</th>\n      <th>pickup_census_tract</th>\n      <th>dropoff_census_tract</th>\n      <th>pickup_community_area</th>\n      <th>dropoff_community_area</th>\n      <th>fare</th>\n      <th>tips</th>\n      <th>tolls</th>\n      <th>extras</th>\n      <th>trip_total</th>\n      <th>payment_type</th>\n      <th>company</th>\n      <th>pickup_latitude</th>\n      <th>pickup_longitude</th>\n      <th>dropoff_latitude</th>\n      <th>dropoff_longitude</th>\n    </tr>\n  </thead>\n  <tbody>\n    <tr>\n      <th>0</th>\n      <td>23</td>\n      <td>0</td>\n      <td>125</td>\n      <td>314</td>\n      <td>14</td>\n      <td>1705805</td>\n      <td>738326</td>\n      <td>285789</td>\n      <td>313655</td>\n      <td>33</td>\n      <td>33</td>\n      <td>33</td>\n      <td>33</td>\n      <td>33</td>\n      <td>0</td>\n      <td>632726</td>\n      <td>285757</td>\n      <td>285757</td>\n      <td>311682</td>\n      <td>311682</td>\n    </tr>\n  </tbody>\n</table>\n</div>"
     },
     "metadata": {},
     "execution_count": 23
    }
   ],
   "source": [
    "from pyspark.sql.functions import isnull, when, count, col\n",
    "\n",
    "df.select([count(when(isnull(c), c)).alias(c) for c in df.columns]).toPandas()"
   ]
  },
  {
   "cell_type": "markdown",
   "metadata": {},
   "source": [
    "There are several columns with a substantial amount of missing data. This is mostly due to retaining the anonymity of the passengers."
   ]
  },
  {
   "cell_type": "markdown",
   "metadata": {},
   "source": [
    "## Check basic decriptive statistics of numerical fields\n",
    "Finally we'll perform a simple check of the \"shpe\" of the numerical values in our dataset."
   ]
  },
  {
   "cell_type": "code",
   "execution_count": 24,
   "metadata": {},
   "outputs": [
    {
     "output_type": "execute_result",
     "data": {
      "text/plain": "  summary            taxi_id       trip_seconds          trip_miles  \\\n0   count            1705782            1705491             1705791   \n1    mean  4389.322577562666   653.442181752938  2.8727017026136483   \n2  stddev   2515.81925889202  932.7260470503461  18.107933771818313   \n3     min                  0                  0                 0.0   \n4     max               8762              86340              3280.0   \n\n  pickup_census_tract dropoff_census_tract pickup_community_area  \\\n0                   0               967479               1420016   \n1                None    516.8220157750194    23.220739062095074   \n2                None    357.5866115771377    19.819355022412203   \n3                None                    2                     1   \n4                None                 1140                    77   \n\n  dropoff_community_area                fare                tips  \\\n0                1392150             1705772             1705772   \n1     20.990691376647632  13.153964152301626  1.5151068196688693   \n2     17.372373287471714  32.874214509629354  2.7449608123129936   \n3                      1                 0.0                 0.0   \n4                     77             9002.29               450.0   \n\n                  tolls              extras          trip_total payment_type  \\\n0               1705772             1705772             1705772      1705805   \n1  0.004308201799537109   0.948484985097658  15.621889226697071         None   \n2     0.836362097367778  25.596044140431605  42.722079685770744         None   \n3                   0.0                 0.0                 0.0         Cash   \n4                999.99             9993.41             9997.16      Unknown   \n\n             company     pickup_latitude    pickup_longitude  \\\n0            1073079             1420048             1420048   \n1  92.60232098475508   392.1435683864207  437.77355765438915   \n2  34.13512623911379  252.76932616452237  194.88939422262246   \n3                  2                   0                   1   \n4                119                 784                 785   \n\n    dropoff_latitude   dropoff_longitude  \n0            1394123             1394123  \n1  401.3053224141629  438.85070614285826  \n2  254.4150475007729   202.3008724903298  \n3                  0                   1  \n4                784                 785  ",
      "text/html": "<div>\n<style scoped>\n    .dataframe tbody tr th:only-of-type {\n        vertical-align: middle;\n    }\n\n    .dataframe tbody tr th {\n        vertical-align: top;\n    }\n\n    .dataframe thead th {\n        text-align: right;\n    }\n</style>\n<table border=\"1\" class=\"dataframe\">\n  <thead>\n    <tr style=\"text-align: right;\">\n      <th></th>\n      <th>summary</th>\n      <th>taxi_id</th>\n      <th>trip_seconds</th>\n      <th>trip_miles</th>\n      <th>pickup_census_tract</th>\n      <th>dropoff_census_tract</th>\n      <th>pickup_community_area</th>\n      <th>dropoff_community_area</th>\n      <th>fare</th>\n      <th>tips</th>\n      <th>tolls</th>\n      <th>extras</th>\n      <th>trip_total</th>\n      <th>payment_type</th>\n      <th>company</th>\n      <th>pickup_latitude</th>\n      <th>pickup_longitude</th>\n      <th>dropoff_latitude</th>\n      <th>dropoff_longitude</th>\n    </tr>\n  </thead>\n  <tbody>\n    <tr>\n      <th>0</th>\n      <td>count</td>\n      <td>1705782</td>\n      <td>1705491</td>\n      <td>1705791</td>\n      <td>0</td>\n      <td>967479</td>\n      <td>1420016</td>\n      <td>1392150</td>\n      <td>1705772</td>\n      <td>1705772</td>\n      <td>1705772</td>\n      <td>1705772</td>\n      <td>1705772</td>\n      <td>1705805</td>\n      <td>1073079</td>\n      <td>1420048</td>\n      <td>1420048</td>\n      <td>1394123</td>\n      <td>1394123</td>\n    </tr>\n    <tr>\n      <th>1</th>\n      <td>mean</td>\n      <td>4389.322577562666</td>\n      <td>653.442181752938</td>\n      <td>2.8727017026136483</td>\n      <td>None</td>\n      <td>516.8220157750194</td>\n      <td>23.220739062095074</td>\n      <td>20.990691376647632</td>\n      <td>13.153964152301626</td>\n      <td>1.5151068196688693</td>\n      <td>0.004308201799537109</td>\n      <td>0.948484985097658</td>\n      <td>15.621889226697071</td>\n      <td>None</td>\n      <td>92.60232098475508</td>\n      <td>392.1435683864207</td>\n      <td>437.77355765438915</td>\n      <td>401.3053224141629</td>\n      <td>438.85070614285826</td>\n    </tr>\n    <tr>\n      <th>2</th>\n      <td>stddev</td>\n      <td>2515.81925889202</td>\n      <td>932.7260470503461</td>\n      <td>18.107933771818313</td>\n      <td>None</td>\n      <td>357.5866115771377</td>\n      <td>19.819355022412203</td>\n      <td>17.372373287471714</td>\n      <td>32.874214509629354</td>\n      <td>2.7449608123129936</td>\n      <td>0.836362097367778</td>\n      <td>25.596044140431605</td>\n      <td>42.722079685770744</td>\n      <td>None</td>\n      <td>34.13512623911379</td>\n      <td>252.76932616452237</td>\n      <td>194.88939422262246</td>\n      <td>254.4150475007729</td>\n      <td>202.3008724903298</td>\n    </tr>\n    <tr>\n      <th>3</th>\n      <td>min</td>\n      <td>0</td>\n      <td>0</td>\n      <td>0.0</td>\n      <td>None</td>\n      <td>2</td>\n      <td>1</td>\n      <td>1</td>\n      <td>0.0</td>\n      <td>0.0</td>\n      <td>0.0</td>\n      <td>0.0</td>\n      <td>0.0</td>\n      <td>Cash</td>\n      <td>2</td>\n      <td>0</td>\n      <td>1</td>\n      <td>0</td>\n      <td>1</td>\n    </tr>\n    <tr>\n      <th>4</th>\n      <td>max</td>\n      <td>8762</td>\n      <td>86340</td>\n      <td>3280.0</td>\n      <td>None</td>\n      <td>1140</td>\n      <td>77</td>\n      <td>77</td>\n      <td>9002.29</td>\n      <td>450.0</td>\n      <td>999.99</td>\n      <td>9993.41</td>\n      <td>9997.16</td>\n      <td>Unknown</td>\n      <td>119</td>\n      <td>784</td>\n      <td>785</td>\n      <td>784</td>\n      <td>785</td>\n    </tr>\n  </tbody>\n</table>\n</div>"
     },
     "metadata": {},
     "execution_count": 24
    }
   ],
   "source": [
    "df.describe().toPandas()"
   ]
  },
  {
   "cell_type": "markdown",
   "metadata": {},
   "source": [
    "### Longest duration"
   ]
  },
  {
   "cell_type": "code",
   "execution_count": 34,
   "metadata": {},
   "outputs": [
    {
     "output_type": "execute_result",
     "data": {
      "text/plain": "     taxi_id trip_start_timestamp  trip_end_timestamp  trip_seconds  \\\n0       5884  2016-01-29 18:45:00 2016-01-30 18:45:00         86340   \n1       4598  2016-01-01 01:15:00 2016-01-02 01:15:00         86340   \n2       5884  2016-01-10 03:45:00 2016-01-11 03:45:00         86340   \n3       5884  2016-01-20 16:15:00 2016-01-21 16:15:00         86340   \n4        819  2016-01-10 20:30:00 2016-01-11 20:30:00         86340   \n..       ...                  ...                 ...           ...   \n257     5943  2016-01-03 15:45:00 2016-01-04 00:00:00         29460   \n258     7560  2016-01-31 15:45:00 2016-02-01 00:00:00         29280   \n259     5411  2016-01-13 15:45:00 2016-01-14 00:00:00         29280   \n260     8149  2016-01-18 23:00:00 2016-01-19 07:15:00         29160   \n261     1311  2016-01-17 20:30:00 2016-01-18 04:30:00         28920   \n\n     trip_miles  trip_total  \n0           0.0        3.00  \n1           0.0       24.81  \n2           0.0        8.00  \n3           0.0       15.30  \n4           0.0       96.00  \n..          ...         ...  \n257        17.3       46.62  \n258         0.0        0.00  \n259         1.0        6.00  \n260         0.0      162.00  \n261       451.5     1054.00  \n\n[262 rows x 6 columns]",
      "text/html": "<div>\n<style scoped>\n    .dataframe tbody tr th:only-of-type {\n        vertical-align: middle;\n    }\n\n    .dataframe tbody tr th {\n        vertical-align: top;\n    }\n\n    .dataframe thead th {\n        text-align: right;\n    }\n</style>\n<table border=\"1\" class=\"dataframe\">\n  <thead>\n    <tr style=\"text-align: right;\">\n      <th></th>\n      <th>taxi_id</th>\n      <th>trip_start_timestamp</th>\n      <th>trip_end_timestamp</th>\n      <th>trip_seconds</th>\n      <th>trip_miles</th>\n      <th>trip_total</th>\n    </tr>\n  </thead>\n  <tbody>\n    <tr>\n      <th>0</th>\n      <td>5884</td>\n      <td>2016-01-29 18:45:00</td>\n      <td>2016-01-30 18:45:00</td>\n      <td>86340</td>\n      <td>0.0</td>\n      <td>3.00</td>\n    </tr>\n    <tr>\n      <th>1</th>\n      <td>4598</td>\n      <td>2016-01-01 01:15:00</td>\n      <td>2016-01-02 01:15:00</td>\n      <td>86340</td>\n      <td>0.0</td>\n      <td>24.81</td>\n    </tr>\n    <tr>\n      <th>2</th>\n      <td>5884</td>\n      <td>2016-01-10 03:45:00</td>\n      <td>2016-01-11 03:45:00</td>\n      <td>86340</td>\n      <td>0.0</td>\n      <td>8.00</td>\n    </tr>\n    <tr>\n      <th>3</th>\n      <td>5884</td>\n      <td>2016-01-20 16:15:00</td>\n      <td>2016-01-21 16:15:00</td>\n      <td>86340</td>\n      <td>0.0</td>\n      <td>15.30</td>\n    </tr>\n    <tr>\n      <th>4</th>\n      <td>819</td>\n      <td>2016-01-10 20:30:00</td>\n      <td>2016-01-11 20:30:00</td>\n      <td>86340</td>\n      <td>0.0</td>\n      <td>96.00</td>\n    </tr>\n    <tr>\n      <th>...</th>\n      <td>...</td>\n      <td>...</td>\n      <td>...</td>\n      <td>...</td>\n      <td>...</td>\n      <td>...</td>\n    </tr>\n    <tr>\n      <th>257</th>\n      <td>5943</td>\n      <td>2016-01-03 15:45:00</td>\n      <td>2016-01-04 00:00:00</td>\n      <td>29460</td>\n      <td>17.3</td>\n      <td>46.62</td>\n    </tr>\n    <tr>\n      <th>258</th>\n      <td>7560</td>\n      <td>2016-01-31 15:45:00</td>\n      <td>2016-02-01 00:00:00</td>\n      <td>29280</td>\n      <td>0.0</td>\n      <td>0.00</td>\n    </tr>\n    <tr>\n      <th>259</th>\n      <td>5411</td>\n      <td>2016-01-13 15:45:00</td>\n      <td>2016-01-14 00:00:00</td>\n      <td>29280</td>\n      <td>1.0</td>\n      <td>6.00</td>\n    </tr>\n    <tr>\n      <th>260</th>\n      <td>8149</td>\n      <td>2016-01-18 23:00:00</td>\n      <td>2016-01-19 07:15:00</td>\n      <td>29160</td>\n      <td>0.0</td>\n      <td>162.00</td>\n    </tr>\n    <tr>\n      <th>261</th>\n      <td>1311</td>\n      <td>2016-01-17 20:30:00</td>\n      <td>2016-01-18 04:30:00</td>\n      <td>28920</td>\n      <td>451.5</td>\n      <td>1054.00</td>\n    </tr>\n  </tbody>\n</table>\n<p>262 rows × 6 columns</p>\n</div>"
     },
     "metadata": {},
     "execution_count": 34
    }
   ],
   "source": [
    "# 28800 seconds = 8 hours\n",
    "df.select('taxi_id', 'trip_start_timestamp', 'trip_end_timestamp','trip_seconds', 'trip_miles', 'trip_total') \\\n",
    "    .where('trip_seconds > 28800') \\\n",
    "    .sort('trip_seconds', ascending=False) \\\n",
    "    .toPandas()"
   ]
  },
  {
   "cell_type": "markdown",
   "metadata": {},
   "source": [
    "### Longest distance"
   ]
  },
  {
   "cell_type": "code",
   "execution_count": 35,
   "metadata": {},
   "outputs": [
    {
     "output_type": "execute_result",
     "data": {
      "text/plain": "     taxi_id trip_start_timestamp  trip_end_timestamp  trip_seconds  \\\n0       5272  2016-01-06 21:15:00 2016-01-06 22:00:00          2460   \n1       4362  2016-01-14 08:30:00 2016-01-14 09:30:00          3420   \n2       4362  2016-01-28 08:15:00 2016-01-28 09:00:00          2280   \n3       4362  2016-01-02 18:45:00 2016-01-02 19:15:00          1920   \n4       5272  2016-01-10 17:15:00 2016-01-10 18:00:00          2580   \n..       ...                  ...                 ...           ...   \n247     5272  2016-01-31 17:45:00 2016-01-31 18:00:00           960   \n248     4303  2016-01-28 08:45:00 2016-01-28 09:00:00          1020   \n249     4303  2016-01-01 02:15:00 2016-01-01 02:30:00          1020   \n250     5272  2016-01-20 21:15:00 2016-01-20 21:15:00           780   \n251     7844  2016-01-16 16:30:00 2016-01-16 16:45:00           600   \n\n     trip_miles  trip_total  \n0        3280.0      125.31  \n1        3000.0       78.25  \n2        2970.0       94.38  \n3        2430.0       62.25  \n4        2130.0      102.00  \n..          ...         ...  \n247       530.0       18.00  \n248       520.0       15.75  \n249       520.0       17.77  \n250       510.0       15.50  \n251       504.0       16.00  \n\n[252 rows x 6 columns]",
      "text/html": "<div>\n<style scoped>\n    .dataframe tbody tr th:only-of-type {\n        vertical-align: middle;\n    }\n\n    .dataframe tbody tr th {\n        vertical-align: top;\n    }\n\n    .dataframe thead th {\n        text-align: right;\n    }\n</style>\n<table border=\"1\" class=\"dataframe\">\n  <thead>\n    <tr style=\"text-align: right;\">\n      <th></th>\n      <th>taxi_id</th>\n      <th>trip_start_timestamp</th>\n      <th>trip_end_timestamp</th>\n      <th>trip_seconds</th>\n      <th>trip_miles</th>\n      <th>trip_total</th>\n    </tr>\n  </thead>\n  <tbody>\n    <tr>\n      <th>0</th>\n      <td>5272</td>\n      <td>2016-01-06 21:15:00</td>\n      <td>2016-01-06 22:00:00</td>\n      <td>2460</td>\n      <td>3280.0</td>\n      <td>125.31</td>\n    </tr>\n    <tr>\n      <th>1</th>\n      <td>4362</td>\n      <td>2016-01-14 08:30:00</td>\n      <td>2016-01-14 09:30:00</td>\n      <td>3420</td>\n      <td>3000.0</td>\n      <td>78.25</td>\n    </tr>\n    <tr>\n      <th>2</th>\n      <td>4362</td>\n      <td>2016-01-28 08:15:00</td>\n      <td>2016-01-28 09:00:00</td>\n      <td>2280</td>\n      <td>2970.0</td>\n      <td>94.38</td>\n    </tr>\n    <tr>\n      <th>3</th>\n      <td>4362</td>\n      <td>2016-01-02 18:45:00</td>\n      <td>2016-01-02 19:15:00</td>\n      <td>1920</td>\n      <td>2430.0</td>\n      <td>62.25</td>\n    </tr>\n    <tr>\n      <th>4</th>\n      <td>5272</td>\n      <td>2016-01-10 17:15:00</td>\n      <td>2016-01-10 18:00:00</td>\n      <td>2580</td>\n      <td>2130.0</td>\n      <td>102.00</td>\n    </tr>\n    <tr>\n      <th>...</th>\n      <td>...</td>\n      <td>...</td>\n      <td>...</td>\n      <td>...</td>\n      <td>...</td>\n      <td>...</td>\n    </tr>\n    <tr>\n      <th>247</th>\n      <td>5272</td>\n      <td>2016-01-31 17:45:00</td>\n      <td>2016-01-31 18:00:00</td>\n      <td>960</td>\n      <td>530.0</td>\n      <td>18.00</td>\n    </tr>\n    <tr>\n      <th>248</th>\n      <td>4303</td>\n      <td>2016-01-28 08:45:00</td>\n      <td>2016-01-28 09:00:00</td>\n      <td>1020</td>\n      <td>520.0</td>\n      <td>15.75</td>\n    </tr>\n    <tr>\n      <th>249</th>\n      <td>4303</td>\n      <td>2016-01-01 02:15:00</td>\n      <td>2016-01-01 02:30:00</td>\n      <td>1020</td>\n      <td>520.0</td>\n      <td>17.77</td>\n    </tr>\n    <tr>\n      <th>250</th>\n      <td>5272</td>\n      <td>2016-01-20 21:15:00</td>\n      <td>2016-01-20 21:15:00</td>\n      <td>780</td>\n      <td>510.0</td>\n      <td>15.50</td>\n    </tr>\n    <tr>\n      <th>251</th>\n      <td>7844</td>\n      <td>2016-01-16 16:30:00</td>\n      <td>2016-01-16 16:45:00</td>\n      <td>600</td>\n      <td>504.0</td>\n      <td>16.00</td>\n    </tr>\n  </tbody>\n</table>\n<p>252 rows × 6 columns</p>\n</div>"
     },
     "metadata": {},
     "execution_count": 35
    }
   ],
   "source": [
    "df.select('taxi_id', 'trip_start_timestamp', 'trip_end_timestamp','trip_seconds', 'trip_miles', 'trip_total') \\\n",
    "    .where('trip_miles > 500') \\\n",
    "    .sort('trip_miles', ascending=False) \\\n",
    "    .toPandas()"
   ]
  },
  {
   "cell_type": "markdown",
   "metadata": {},
   "source": [
    "### Most expensive trips"
   ]
  },
  {
   "cell_type": "code",
   "execution_count": 36,
   "metadata": {},
   "outputs": [
    {
     "output_type": "execute_result",
     "data": {
      "text/plain": "     taxi_id trip_start_timestamp  trip_end_timestamp  trip_seconds  \\\n0        170  2016-01-15 11:45:00 2016-01-15 11:45:00           120   \n1       7611  2016-01-02 02:00:00 2016-01-02 02:15:00          1380   \n2       7611  2016-01-02 04:00:00 2016-01-02 04:15:00          1200   \n3       2146  2016-01-04 19:00:00 2016-01-04 19:15:00           840   \n4       7611  2016-01-02 03:45:00 2016-01-02 03:45:00           360   \n..       ...                  ...                 ...           ...   \n98      2146  2016-01-05 09:45:00 2016-01-05 09:45:00             0   \n99      1270  2016-01-02 16:00:00 2016-01-02 16:00:00             0   \n100     3916  2016-01-01 14:30:00 2016-01-01 14:45:00           660   \n101     2509  2016-01-02 20:00:00 2016-01-02 20:00:00            60   \n102     8353  2016-01-02 12:00:00 2016-01-02 12:00:00            60   \n\n     trip_miles  trip_total  \n0           0.0     9997.16  \n1           0.9     9052.39  \n2           0.2     9051.20  \n3           0.1     9051.05  \n4           0.0     9050.98  \n..          ...         ...  \n98          0.0     1050.32  \n99          0.0     1050.32  \n100         0.0     1009.73  \n101         0.0     1000.35  \n102         0.0     1000.35  \n\n[103 rows x 6 columns]",
      "text/html": "<div>\n<style scoped>\n    .dataframe tbody tr th:only-of-type {\n        vertical-align: middle;\n    }\n\n    .dataframe tbody tr th {\n        vertical-align: top;\n    }\n\n    .dataframe thead th {\n        text-align: right;\n    }\n</style>\n<table border=\"1\" class=\"dataframe\">\n  <thead>\n    <tr style=\"text-align: right;\">\n      <th></th>\n      <th>taxi_id</th>\n      <th>trip_start_timestamp</th>\n      <th>trip_end_timestamp</th>\n      <th>trip_seconds</th>\n      <th>trip_miles</th>\n      <th>trip_total</th>\n    </tr>\n  </thead>\n  <tbody>\n    <tr>\n      <th>0</th>\n      <td>170</td>\n      <td>2016-01-15 11:45:00</td>\n      <td>2016-01-15 11:45:00</td>\n      <td>120</td>\n      <td>0.0</td>\n      <td>9997.16</td>\n    </tr>\n    <tr>\n      <th>1</th>\n      <td>7611</td>\n      <td>2016-01-02 02:00:00</td>\n      <td>2016-01-02 02:15:00</td>\n      <td>1380</td>\n      <td>0.9</td>\n      <td>9052.39</td>\n    </tr>\n    <tr>\n      <th>2</th>\n      <td>7611</td>\n      <td>2016-01-02 04:00:00</td>\n      <td>2016-01-02 04:15:00</td>\n      <td>1200</td>\n      <td>0.2</td>\n      <td>9051.20</td>\n    </tr>\n    <tr>\n      <th>3</th>\n      <td>2146</td>\n      <td>2016-01-04 19:00:00</td>\n      <td>2016-01-04 19:15:00</td>\n      <td>840</td>\n      <td>0.1</td>\n      <td>9051.05</td>\n    </tr>\n    <tr>\n      <th>4</th>\n      <td>7611</td>\n      <td>2016-01-02 03:45:00</td>\n      <td>2016-01-02 03:45:00</td>\n      <td>360</td>\n      <td>0.0</td>\n      <td>9050.98</td>\n    </tr>\n    <tr>\n      <th>...</th>\n      <td>...</td>\n      <td>...</td>\n      <td>...</td>\n      <td>...</td>\n      <td>...</td>\n      <td>...</td>\n    </tr>\n    <tr>\n      <th>98</th>\n      <td>2146</td>\n      <td>2016-01-05 09:45:00</td>\n      <td>2016-01-05 09:45:00</td>\n      <td>0</td>\n      <td>0.0</td>\n      <td>1050.32</td>\n    </tr>\n    <tr>\n      <th>99</th>\n      <td>1270</td>\n      <td>2016-01-02 16:00:00</td>\n      <td>2016-01-02 16:00:00</td>\n      <td>0</td>\n      <td>0.0</td>\n      <td>1050.32</td>\n    </tr>\n    <tr>\n      <th>100</th>\n      <td>3916</td>\n      <td>2016-01-01 14:30:00</td>\n      <td>2016-01-01 14:45:00</td>\n      <td>660</td>\n      <td>0.0</td>\n      <td>1009.73</td>\n    </tr>\n    <tr>\n      <th>101</th>\n      <td>2509</td>\n      <td>2016-01-02 20:00:00</td>\n      <td>2016-01-02 20:00:00</td>\n      <td>60</td>\n      <td>0.0</td>\n      <td>1000.35</td>\n    </tr>\n    <tr>\n      <th>102</th>\n      <td>8353</td>\n      <td>2016-01-02 12:00:00</td>\n      <td>2016-01-02 12:00:00</td>\n      <td>60</td>\n      <td>0.0</td>\n      <td>1000.35</td>\n    </tr>\n  </tbody>\n</table>\n<p>103 rows × 6 columns</p>\n</div>"
     },
     "metadata": {},
     "execution_count": 36
    }
   ],
   "source": [
    "df.select('taxi_id', 'trip_start_timestamp', 'trip_end_timestamp','trip_seconds', 'trip_miles', 'trip_total') \\\n",
    "    .where('trip_total > 1000') \\\n",
    "    .sort('trip_total', ascending=False) \\\n",
    "    .toPandas()"
   ]
  },
  {
   "cell_type": "markdown",
   "metadata": {},
   "source": [
    "#### Expensive trips with short duration or distance"
   ]
  },
  {
   "cell_type": "code",
   "execution_count": 38,
   "metadata": {},
   "outputs": [
    {
     "output_type": "execute_result",
     "data": {
      "text/plain": "     taxi_id trip_start_timestamp  trip_end_timestamp  trip_seconds  \\\n0        170  2016-01-15 11:45:00 2016-01-15 11:45:00           120   \n1       7611  2016-01-02 02:00:00 2016-01-02 02:15:00          1380   \n2       7611  2016-01-02 04:00:00 2016-01-02 04:15:00          1200   \n3       2146  2016-01-04 19:00:00 2016-01-04 19:15:00           840   \n4       7611  2016-01-02 03:45:00 2016-01-02 03:45:00           360   \n..       ...                  ...                 ...           ...   \n97      2146  2016-01-05 09:45:00 2016-01-05 09:45:00             0   \n98      1270  2016-01-02 16:00:00 2016-01-02 16:00:00             0   \n99      3916  2016-01-01 14:30:00 2016-01-01 14:45:00           660   \n100     2509  2016-01-02 20:00:00 2016-01-02 20:00:00            60   \n101     8353  2016-01-02 12:00:00 2016-01-02 12:00:00            60   \n\n     trip_miles  trip_total  \n0           0.0     9997.16  \n1           0.9     9052.39  \n2           0.2     9051.20  \n3           0.1     9051.05  \n4           0.0     9050.98  \n..          ...         ...  \n97          0.0     1050.32  \n98          0.0     1050.32  \n99          0.0     1009.73  \n100         0.0     1000.35  \n101         0.0     1000.35  \n\n[102 rows x 6 columns]",
      "text/html": "<div>\n<style scoped>\n    .dataframe tbody tr th:only-of-type {\n        vertical-align: middle;\n    }\n\n    .dataframe tbody tr th {\n        vertical-align: top;\n    }\n\n    .dataframe thead th {\n        text-align: right;\n    }\n</style>\n<table border=\"1\" class=\"dataframe\">\n  <thead>\n    <tr style=\"text-align: right;\">\n      <th></th>\n      <th>taxi_id</th>\n      <th>trip_start_timestamp</th>\n      <th>trip_end_timestamp</th>\n      <th>trip_seconds</th>\n      <th>trip_miles</th>\n      <th>trip_total</th>\n    </tr>\n  </thead>\n  <tbody>\n    <tr>\n      <th>0</th>\n      <td>170</td>\n      <td>2016-01-15 11:45:00</td>\n      <td>2016-01-15 11:45:00</td>\n      <td>120</td>\n      <td>0.0</td>\n      <td>9997.16</td>\n    </tr>\n    <tr>\n      <th>1</th>\n      <td>7611</td>\n      <td>2016-01-02 02:00:00</td>\n      <td>2016-01-02 02:15:00</td>\n      <td>1380</td>\n      <td>0.9</td>\n      <td>9052.39</td>\n    </tr>\n    <tr>\n      <th>2</th>\n      <td>7611</td>\n      <td>2016-01-02 04:00:00</td>\n      <td>2016-01-02 04:15:00</td>\n      <td>1200</td>\n      <td>0.2</td>\n      <td>9051.20</td>\n    </tr>\n    <tr>\n      <th>3</th>\n      <td>2146</td>\n      <td>2016-01-04 19:00:00</td>\n      <td>2016-01-04 19:15:00</td>\n      <td>840</td>\n      <td>0.1</td>\n      <td>9051.05</td>\n    </tr>\n    <tr>\n      <th>4</th>\n      <td>7611</td>\n      <td>2016-01-02 03:45:00</td>\n      <td>2016-01-02 03:45:00</td>\n      <td>360</td>\n      <td>0.0</td>\n      <td>9050.98</td>\n    </tr>\n    <tr>\n      <th>...</th>\n      <td>...</td>\n      <td>...</td>\n      <td>...</td>\n      <td>...</td>\n      <td>...</td>\n      <td>...</td>\n    </tr>\n    <tr>\n      <th>97</th>\n      <td>2146</td>\n      <td>2016-01-05 09:45:00</td>\n      <td>2016-01-05 09:45:00</td>\n      <td>0</td>\n      <td>0.0</td>\n      <td>1050.32</td>\n    </tr>\n    <tr>\n      <th>98</th>\n      <td>1270</td>\n      <td>2016-01-02 16:00:00</td>\n      <td>2016-01-02 16:00:00</td>\n      <td>0</td>\n      <td>0.0</td>\n      <td>1050.32</td>\n    </tr>\n    <tr>\n      <th>99</th>\n      <td>3916</td>\n      <td>2016-01-01 14:30:00</td>\n      <td>2016-01-01 14:45:00</td>\n      <td>660</td>\n      <td>0.0</td>\n      <td>1009.73</td>\n    </tr>\n    <tr>\n      <th>100</th>\n      <td>2509</td>\n      <td>2016-01-02 20:00:00</td>\n      <td>2016-01-02 20:00:00</td>\n      <td>60</td>\n      <td>0.0</td>\n      <td>1000.35</td>\n    </tr>\n    <tr>\n      <th>101</th>\n      <td>8353</td>\n      <td>2016-01-02 12:00:00</td>\n      <td>2016-01-02 12:00:00</td>\n      <td>60</td>\n      <td>0.0</td>\n      <td>1000.35</td>\n    </tr>\n  </tbody>\n</table>\n<p>102 rows × 6 columns</p>\n</div>"
     },
     "metadata": {},
     "execution_count": 38
    }
   ],
   "source": [
    "df.select('taxi_id', 'trip_start_timestamp', 'trip_end_timestamp','trip_seconds', 'trip_miles', 'trip_total') \\\n",
    "    .where('trip_total > 1000 AND (trip_seconds < 3600 OR trip_miles < 100)') \\\n",
    "    .sort('trip_total', ascending=False) \\\n",
    "    .toPandas()"
   ]
  },
  {
   "cell_type": "markdown",
   "metadata": {},
   "source": [
    "## Summary\n",
    "It certainly looks like there are outliers/oddities in the dataset. As I am no expert on the subject I decided to leave the data as is for the following reasons:\n",
    "* There might be special cases that warrants some of this data valid\n",
    "* We cannot simply drop e.g. top n percentile for each column as it is the interrelationship between column values that make up for the odd situations\n",
    "* Without expert opinion it is difficult to define threshold for what to keep and what to drop\n",
    "* By leaving the data intact it is possible to use it to develop a proper algorithm that would handle the outliers\n",
    "* One option could be to store the dropped data in a separate dataset for analysis\n",
    "\n",
    "The following actions have been taken by the dataset authors, prior to releasing the data:\n",
    "> ...\\[the Taxi ID\\] is created specifically for this dataset, with no external meaning, to allow users to determine rides provided by the same taxi but not which taxi.\n",
    ">\n",
    "> ...\n",
    "> \n",
    "> ...we have rounded all start and end times to the nearest 15 minutes.\n",
    "> \n",
    "> ...\n",
    "> \n",
    "> ...we provide location only at the Census Tract and Community Area levels\n",
    "\n",
    "The dataset origin had this to say about outliers in the data:\n",
    "> ...we have applied the following corrections to the data.\n",
    "> * Trip times less than zero or greater than 86,400 seconds are removed.\n",
    "> * Trip lengths less than zero or greater than 3,500 miles are removed.\n",
    "> * If any component of the trip cost is less than $0 or greater than $10,000, all components of the trip cost are removed.\n",
    ">\n",
    "> ...\n",
    ">\n",
    "> Naturally, many of the extreme values that remain likely are also wrong but we prefer to leave it to the user to filter further, based on his or her judgement and needs for a particular use of the data.\n",
    "\n",
    "Link to the source: https://digital.cityofchicago.org/index.php/chicago-taxi-data-released/"
   ]
  }
 ]
}