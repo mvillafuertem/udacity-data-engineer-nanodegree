{
 "cells": [
  {
   "cell_type": "markdown",
   "metadata": {
    "editable": true
   },
   "source": [
    "# Data Analysis\n",
    "This Notebook contains a few data analysis examples of the result data from the ETL process.\n",
    "\n",
    "The data model is shown below as a reference to help making the appropriate queries.\n",
    "\n",
    "![Data model](assets/datamodel.png)\n",
    "\n",
    "Try it out and see what kind of insights you find from the data!"
   ]
  },
  {
   "cell_type": "code",
   "execution_count": 136,
   "metadata": {
    "editable": true
   },
   "outputs": [],
   "source": [
    "import os\n",
    "import glob\n",
    "import psycopg2\n",
    "import pandas as pd\n",
    "from sql_queries import *"
   ]
  },
  {
   "cell_type": "code",
   "execution_count": 137,
   "metadata": {
    "editable": true
   },
   "outputs": [],
   "source": [
    "conn = psycopg2.connect(\"host=127.0.0.1 dbname=sparkifydb user=student password=student\")\n",
    "conn.set_session(autocommit=True)\n",
    "cur = conn.cursor()"
   ]
  },
  {
   "cell_type": "markdown",
   "metadata": {
    "editable": true
   },
   "source": [
    "## Top lists"
   ]
  },
  {
   "cell_type": "markdown",
   "metadata": {
    "editable": true
   },
   "source": [
    "### 10 most played songs"
   ]
  },
  {
   "cell_type": "code",
   "execution_count": 138,
   "metadata": {
    "editable": true
   },
   "outputs": [
    {
     "name": "stdout",
     "output_type": "stream",
     "text": [
      "('Setanta matins', 'Elena', 1)\n"
     ]
    }
   ],
   "source": [
    "query = \"\"\"\n",
    "SELECT songs.title AS Song, artists.name AS Artist, COUNT(songs.title) AS \"Play count\"\n",
    "FROM\n",
    "    songplays\n",
    "INNER JOIN songs ON songplays.song_id = songs.song_id\n",
    "INNER JOIN artists ON songplays.artist_id = artists.artist_id\n",
    "GROUP BY songs.title, artists.name\n",
    "ORDER BY COUNT(songs.title) DESC\n",
    "LIMIT 10\n",
    "\"\"\"\n",
    "cur.execute(query)\n",
    "row = cur.fetchone()\n",
    "while row:\n",
    "   print(row)\n",
    "   row = cur.fetchone()"
   ]
  },
  {
   "cell_type": "markdown",
   "metadata": {
    "editable": true
   },
   "source": [
    "**NOTE**\n",
    "Since this is a subset of the much larger dataset, the solution dataset will only have 1 row with values for value containing ID for both songid and artistid in the fact table. Those are the only 2 values that the query in the sql_queries.py will return that are not-NONE. The rest of the rows will have NONE values for those two variables."
   ]
  },
  {
   "cell_type": "markdown",
   "metadata": {
    "editable": true
   },
   "source": [
    "### 10 longest songs"
   ]
  },
  {
   "cell_type": "code",
   "execution_count": 139,
   "metadata": {
    "editable": true
   },
   "outputs": [
    {
     "name": "stdout",
     "output_type": "stream",
     "text": [
      "('Sohna Nee Sohna Data', 'Faiz Ali Faiz', 599.24853)\n",
      "('Sono andati? Fingevo di dormire', 'Montserrat Caballé;Placido Domingo;Vicente Sardinero;Judith Blegen;Sherrill Milnes;Georg Solti', 511.16363)\n",
      "('Floating', 'Blue Rodeo', 491.12771)\n",
      "('The Emperor Falls', 'John Wesley', 484.62322)\n",
      "('Salt In NYC', 'Trafik', 424.12363)\n",
      "('Kutt Free (DJ Volume Remix)', 'Jinx', 407.37914)\n",
      "('Prognosis', 'Steve Morse', 363.85914)\n",
      "('Do You Finally Need A Friend', 'Terry Callier', 342.56934)\n",
      "('Superconfidential', 'Clp', 338.31138)\n",
      "('Got My Mojo Workin', 'Pucho & His Latin Soul Brothers', 338.23302)\n"
     ]
    }
   ],
   "source": [
    "query = \"\"\"\n",
    "SELECT songs.title AS Song, artists.name AS Artist, songs.duration\n",
    "FROM\n",
    "    songs\n",
    "INNER JOIN artists ON songs.artist_id = artists.artist_id\n",
    "ORDER BY songs.duration DESC\n",
    "LIMIT 10\n",
    "\"\"\"\n",
    "cur.execute(query)\n",
    "row = cur.fetchone()\n",
    "while row:\n",
    "   print(row)\n",
    "   row = cur.fetchone()"
   ]
  },
  {
   "cell_type": "markdown",
   "metadata": {
    "editable": true
   },
   "source": [
    "### 10 most active listeners"
   ]
  },
  {
   "cell_type": "code",
   "execution_count": 140,
   "metadata": {
    "editable": true
   },
   "outputs": [
    {
     "name": "stdout",
     "output_type": "stream",
     "text": [
      "('Chloe', 'Cuevas', 689)\n",
      "('Tegan', 'Levine', 665)\n",
      "('Kate', 'Harrell', 557)\n",
      "('Lily', 'Koch', 463)\n",
      "('Aleena', 'Kirby', 397)\n",
      "('Jacqueline', 'Lynch', 346)\n",
      "('Layla', 'Griffin', 321)\n",
      "('Jacob', 'Klein', 289)\n",
      "('Mohammad', 'Rodriguez', 270)\n",
      "('Matthew', 'Jones', 248)\n"
     ]
    }
   ],
   "source": [
    "query = \"\"\"\n",
    "SELECT users.first_name AS Firstname, users.last_name AS Lastname, COUNT(songplays.songplay_id) AS Playcount\n",
    "FROM\n",
    "    songplays\n",
    "INNER JOIN users ON songplays.user_id = users.user_id\n",
    "GROUP BY Firstname, Lastname\n",
    "ORDER BY COUNT(songplays.songplay_id) DESC\n",
    "LIMIT 10\n",
    "\"\"\"\n",
    "cur.execute(query)\n",
    "row = cur.fetchone()\n",
    "while row:\n",
    "   print(row)\n",
    "   row = cur.fetchone()"
   ]
  },
  {
   "cell_type": "markdown",
   "metadata": {
    "editable": true
   },
   "source": [
    "## Alternative querying methods\n",
    "It is possible to read SQL queries directly into a Pandas DataFrame, which makes further filtering, analysis and visualization of data easy and efficient.\n",
    "\n",
    "Below is a simple example to get you started."
   ]
  },
  {
   "cell_type": "markdown",
   "metadata": {
    "editable": true
   },
   "source": [
    "### Play count over time\n",
    "We have time dimension table that can be utilized for grouping/aggregating data by calendar. However, modern BI/analytical tools have great support for handling dates and times. Thus for this example I will just read the timestamps from the database and instead rely on the built-in funtions from Pandas to make this timeseries analysis.\n",
    "\n",
    "Read a maximum 1000 log rows to the dataframe."
   ]
  },
  {
   "cell_type": "code",
   "execution_count": 141,
   "metadata": {
    "editable": true
   },
   "outputs": [
    {
     "data": {
      "text/html": [
       "<div>\n",
       "<style scoped>\n",
       "    .dataframe tbody tr th:only-of-type {\n",
       "        vertical-align: middle;\n",
       "    }\n",
       "\n",
       "    .dataframe tbody tr th {\n",
       "        vertical-align: top;\n",
       "    }\n",
       "\n",
       "    .dataframe thead th {\n",
       "        text-align: right;\n",
       "    }\n",
       "</style>\n",
       "<table border=\"1\" class=\"dataframe\">\n",
       "  <thead>\n",
       "    <tr style=\"text-align: right;\">\n",
       "      <th></th>\n",
       "      <th>id</th>\n",
       "      <th>timestamp</th>\n",
       "    </tr>\n",
       "  </thead>\n",
       "  <tbody>\n",
       "    <tr>\n",
       "      <th>0</th>\n",
       "      <td>1277</td>\n",
       "      <td>1543607664796</td>\n",
       "    </tr>\n",
       "    <tr>\n",
       "      <th>1</th>\n",
       "      <td>1276</td>\n",
       "      <td>1543603884796</td>\n",
       "    </tr>\n",
       "    <tr>\n",
       "      <th>2</th>\n",
       "      <td>1275</td>\n",
       "      <td>1543603678796</td>\n",
       "    </tr>\n",
       "    <tr>\n",
       "      <th>3</th>\n",
       "      <td>1274</td>\n",
       "      <td>1543603476796</td>\n",
       "    </tr>\n",
       "    <tr>\n",
       "      <th>4</th>\n",
       "      <td>1273</td>\n",
       "      <td>1543603205796</td>\n",
       "    </tr>\n",
       "  </tbody>\n",
       "</table>\n",
       "</div>"
      ],
      "text/plain": [
       "     id      timestamp\n",
       "0  1277  1543607664796\n",
       "1  1276  1543603884796\n",
       "2  1275  1543603678796\n",
       "3  1274  1543603476796\n",
       "4  1273  1543603205796"
      ]
     },
     "execution_count": 141,
     "metadata": {},
     "output_type": "execute_result"
    }
   ],
   "source": [
    "query = \"\"\"\n",
    "SELECT songplay_id AS id, start_time AS timestamp\n",
    "FROM\n",
    "    songplays\n",
    "ORDER BY start_time DESC\n",
    "LIMIT 1000\n",
    "\"\"\"\n",
    "df = pd.read_sql_query(query, conn)\n",
    "df.head()"
   ]
  },
  {
   "cell_type": "markdown",
   "metadata": {
    "editable": true
   },
   "source": [
    "Parse the timestamp value into a date time object."
   ]
  },
  {
   "cell_type": "code",
   "execution_count": 142,
   "metadata": {
    "editable": true
   },
   "outputs": [
    {
     "data": {
      "text/html": [
       "<div>\n",
       "<style scoped>\n",
       "    .dataframe tbody tr th:only-of-type {\n",
       "        vertical-align: middle;\n",
       "    }\n",
       "\n",
       "    .dataframe tbody tr th {\n",
       "        vertical-align: top;\n",
       "    }\n",
       "\n",
       "    .dataframe thead th {\n",
       "        text-align: right;\n",
       "    }\n",
       "</style>\n",
       "<table border=\"1\" class=\"dataframe\">\n",
       "  <thead>\n",
       "    <tr style=\"text-align: right;\">\n",
       "      <th></th>\n",
       "      <th>id</th>\n",
       "      <th>timestamp</th>\n",
       "      <th>datetime</th>\n",
       "    </tr>\n",
       "  </thead>\n",
       "  <tbody>\n",
       "    <tr>\n",
       "      <th>0</th>\n",
       "      <td>1277</td>\n",
       "      <td>1543607664796</td>\n",
       "      <td>2018-11-30 19:54:24.796</td>\n",
       "    </tr>\n",
       "    <tr>\n",
       "      <th>1</th>\n",
       "      <td>1276</td>\n",
       "      <td>1543603884796</td>\n",
       "      <td>2018-11-30 18:51:24.796</td>\n",
       "    </tr>\n",
       "    <tr>\n",
       "      <th>2</th>\n",
       "      <td>1275</td>\n",
       "      <td>1543603678796</td>\n",
       "      <td>2018-11-30 18:47:58.796</td>\n",
       "    </tr>\n",
       "    <tr>\n",
       "      <th>3</th>\n",
       "      <td>1274</td>\n",
       "      <td>1543603476796</td>\n",
       "      <td>2018-11-30 18:44:36.796</td>\n",
       "    </tr>\n",
       "    <tr>\n",
       "      <th>4</th>\n",
       "      <td>1273</td>\n",
       "      <td>1543603205796</td>\n",
       "      <td>2018-11-30 18:40:05.796</td>\n",
       "    </tr>\n",
       "  </tbody>\n",
       "</table>\n",
       "</div>"
      ],
      "text/plain": [
       "     id      timestamp                datetime\n",
       "0  1277  1543607664796 2018-11-30 19:54:24.796\n",
       "1  1276  1543603884796 2018-11-30 18:51:24.796\n",
       "2  1275  1543603678796 2018-11-30 18:47:58.796\n",
       "3  1274  1543603476796 2018-11-30 18:44:36.796\n",
       "4  1273  1543603205796 2018-11-30 18:40:05.796"
      ]
     },
     "execution_count": 142,
     "metadata": {},
     "output_type": "execute_result"
    }
   ],
   "source": [
    "df['datetime'] = pd.to_datetime(df['timestamp'], unit='ms')\n",
    "df.head()"
   ]
  },
  {
   "cell_type": "markdown",
   "metadata": {
    "editable": true
   },
   "source": [
    "Let's see the daily play counts."
   ]
  },
  {
   "cell_type": "code",
   "execution_count": 143,
   "metadata": {
    "editable": true
   },
   "outputs": [
    {
     "data": {
      "text/html": [
       "<div>\n",
       "<style scoped>\n",
       "    .dataframe tbody tr th:only-of-type {\n",
       "        vertical-align: middle;\n",
       "    }\n",
       "\n",
       "    .dataframe tbody tr th {\n",
       "        vertical-align: top;\n",
       "    }\n",
       "\n",
       "    .dataframe thead th {\n",
       "        text-align: right;\n",
       "    }\n",
       "</style>\n",
       "<table border=\"1\" class=\"dataframe\">\n",
       "  <thead>\n",
       "    <tr style=\"text-align: right;\">\n",
       "      <th></th>\n",
       "      <th>id</th>\n",
       "      <th>timestamp</th>\n",
       "    </tr>\n",
       "    <tr>\n",
       "      <th>datetime</th>\n",
       "      <th></th>\n",
       "      <th></th>\n",
       "    </tr>\n",
       "  </thead>\n",
       "  <tbody>\n",
       "    <tr>\n",
       "      <th>2018-11-28</th>\n",
       "      <td>351</td>\n",
       "      <td>351</td>\n",
       "    </tr>\n",
       "    <tr>\n",
       "      <th>2018-11-29</th>\n",
       "      <td>319</td>\n",
       "      <td>319</td>\n",
       "    </tr>\n",
       "    <tr>\n",
       "      <th>2018-11-30</th>\n",
       "      <td>330</td>\n",
       "      <td>330</td>\n",
       "    </tr>\n",
       "  </tbody>\n",
       "</table>\n",
       "</div>"
      ],
      "text/plain": [
       "             id  timestamp\n",
       "datetime                  \n",
       "2018-11-28  351        351\n",
       "2018-11-29  319        319\n",
       "2018-11-30  330        330"
      ]
     },
     "execution_count": 143,
     "metadata": {},
     "output_type": "execute_result"
    }
   ],
   "source": [
    "df.groupby(by=pd.Grouper(key='datetime', freq='24h')).count()"
   ]
  },
  {
   "cell_type": "markdown",
   "metadata": {
    "editable": true
   },
   "source": [
    "Let's try to increase the granularity to hourly play count and instead plot the result."
   ]
  },
  {
   "cell_type": "code",
   "execution_count": 144,
   "metadata": {
    "editable": true
   },
   "outputs": [
    {
     "data": {
      "text/plain": [
       "<matplotlib.axes._subplots.AxesSubplot at 0x7f7b77fbeb70>"
      ]
     },
     "execution_count": 144,
     "metadata": {},
     "output_type": "execute_result"
    },
    {
     "data": {
      "image/png": "[encoded data removed]",
      "text/plain": [
       "<matplotlib.figure.Figure at 0x7f7b77f9e0f0>"
      ]
     },
     "metadata": {
      "needs_background": "light"
     },
     "output_type": "display_data"
    }
   ],
   "source": [
    "df.groupby(by=pd.Grouper(key='datetime', freq='1h')).count()['id'].plot(figsize=(10,6))"
   ]
  },
  {
   "cell_type": "markdown",
   "metadata": {
    "editable": true
   },
   "source": [
    "You can also do data aggregation using SQL queries if you prefer that. "
   ]
  },
  {
   "cell_type": "code",
   "execution_count": 149,
   "metadata": {
    "editable": true
   },
   "outputs": [
    {
     "data": {
      "text/html": [
       "<div>\n",
       "<style scoped>\n",
       "    .dataframe tbody tr th:only-of-type {\n",
       "        vertical-align: middle;\n",
       "    }\n",
       "\n",
       "    .dataframe tbody tr th {\n",
       "        vertical-align: top;\n",
       "    }\n",
       "\n",
       "    .dataframe thead th {\n",
       "        text-align: right;\n",
       "    }\n",
       "</style>\n",
       "<table border=\"1\" class=\"dataframe\">\n",
       "  <thead>\n",
       "    <tr style=\"text-align: right;\">\n",
       "      <th></th>\n",
       "      <th>datetime</th>\n",
       "      <th>playcount</th>\n",
       "    </tr>\n",
       "  </thead>\n",
       "  <tbody>\n",
       "    <tr>\n",
       "      <th>0</th>\n",
       "      <td>2018-11-30 19:00:00</td>\n",
       "      <td>1</td>\n",
       "    </tr>\n",
       "    <tr>\n",
       "      <th>1</th>\n",
       "      <td>2018-11-30 18:00:00</td>\n",
       "      <td>24</td>\n",
       "    </tr>\n",
       "    <tr>\n",
       "      <th>2</th>\n",
       "      <td>2018-11-30 17:00:00</td>\n",
       "      <td>26</td>\n",
       "    </tr>\n",
       "    <tr>\n",
       "      <th>3</th>\n",
       "      <td>2018-11-30 16:00:00</td>\n",
       "      <td>27</td>\n",
       "    </tr>\n",
       "    <tr>\n",
       "      <th>4</th>\n",
       "      <td>2018-11-30 15:00:00</td>\n",
       "      <td>33</td>\n",
       "    </tr>\n",
       "  </tbody>\n",
       "</table>\n",
       "</div>"
      ],
      "text/plain": [
       "             datetime  playcount\n",
       "0 2018-11-30 19:00:00          1\n",
       "1 2018-11-30 18:00:00         24\n",
       "2 2018-11-30 17:00:00         26\n",
       "3 2018-11-30 16:00:00         27\n",
       "4 2018-11-30 15:00:00         33"
      ]
     },
     "execution_count": 149,
     "metadata": {},
     "output_type": "execute_result"
    }
   ],
   "source": [
    "query = \"\"\"\n",
    "SELECT \n",
    "    TO_CHAR(MAKE_TIMESTAMP(time.year, time.month, time.day, time.hour, 0, 0), 'YYYY-MM-DD HH24:MI') AS datetime,\n",
    "    COUNT(songplay_id) AS playcount\n",
    "FROM \n",
    "    songplays\n",
    "INNER JOIN \n",
    "    time ON songplays.start_time = time.start_time \n",
    "GROUP BY \n",
    "    time.year, time.month, time.day, time.hour, datetime\n",
    "ORDER BY \n",
    "    time.year DESC, time.month DESC, time.day DESC, time.hour DESC\n",
    "LIMIT 57\n",
    "\"\"\"\n",
    "df = pd.read_sql_query(query, conn, parse_dates=['datetime'])\n",
    "df.head()"
   ]
  },
  {
   "cell_type": "code",
   "execution_count": 150,
   "metadata": {
    "editable": true
   },
   "outputs": [
    {
     "data": {
      "text/plain": [
       "<matplotlib.axes._subplots.AxesSubplot at 0x7f7b77ea8400>"
      ]
     },
     "execution_count": 150,
     "metadata": {},
     "output_type": "execute_result"
    },
    {
     "data": {
      "image/png": "[encoded data removed]",
      "text/plain": [
       "<matplotlib.figure.Figure at 0x7f7b77f76630>"
      ]
     },
     "metadata": {
      "needs_background": "light"
     },
     "output_type": "display_data"
    }
   ],
   "source": [
    "df.plot(x='datetime', y='playcount', figsize=(10,6))"
   ]
  },
  {
   "cell_type": "markdown",
   "metadata": {
    "editable": true
   },
   "source": [
    "### Close connection"
   ]
  },
  {
   "cell_type": "code",
   "execution_count": 135,
   "metadata": {
    "editable": true
   },
   "outputs": [],
   "source": [
    "conn.close()"
   ]
  },
  {
   "cell_type": "code",
   "execution_count": null,
   "metadata": {
    "editable": true
   },
   "outputs": [],
   "source": []
  },
  {
   "cell_type": "code",
   "execution_count": null,
   "metadata": {
    "editable": true
   },
   "outputs": [],
   "source": []
  },
  {
   "cell_type": "code",
   "execution_count": null,
   "metadata": {
    "editable": true
   },
   "outputs": [],
   "source": []
  }
 ],
 "metadata": {
  "kernelspec": {
   "display_name": "Python 3",
   "language": "python",
   "name": "python3"
  },
  "language_info": {
   "codemirror_mode": {
    "name": "ipython",
    "version": 3
   },
   "file_extension": ".py",
   "mimetype": "text/x-python",
   "name": "python",
   "nbconvert_exporter": "python",
   "pygments_lexer": "ipython3",
   "version": "3.6.3"
  }
 },
 "nbformat": 4,
 "nbformat_minor": 4
}
