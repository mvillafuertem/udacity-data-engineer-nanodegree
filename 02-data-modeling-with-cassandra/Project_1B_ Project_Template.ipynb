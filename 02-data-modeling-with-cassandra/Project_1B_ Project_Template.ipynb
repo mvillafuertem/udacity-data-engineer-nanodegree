{
 "cells": [
  {
   "cell_type": "markdown",
   "metadata": {
    "editable": true
   },
   "source": [
    "# Part I. ETL Pipeline for Pre-Processing the Files"
   ]
  },
  {
   "cell_type": "markdown",
   "metadata": {
    "editable": true
   },
   "source": [
    "## PLEASE RUN THE FOLLOWING CODE FOR PRE-PROCESSING THE FILES"
   ]
  },
  {
   "cell_type": "markdown",
   "metadata": {
    "editable": true
   },
   "source": [
    "#### Import Python packages "
   ]
  },
  {
   "cell_type": "code",
   "execution_count": 1,
   "metadata": {
    "editable": true
   },
   "outputs": [],
   "source": [
    "# Import Python packages \n",
    "import pandas as pd\n",
    "import cassandra\n",
    "import re\n",
    "import os\n",
    "import glob\n",
    "import numpy as np\n",
    "import json\n",
    "import csv"
   ]
  },
  {
   "cell_type": "markdown",
   "metadata": {
    "editable": true
   },
   "source": [
    "#### Creating list of filepaths to process original event csv data files"
   ]
  },
  {
   "cell_type": "code",
   "execution_count": 2,
   "metadata": {
    "editable": true
   },
   "outputs": [
    {
     "name": "stdout",
     "output_type": "stream",
     "text": [
      "/home/workspace\n"
     ]
    }
   ],
   "source": [
    "# checking your current working directory\n",
    "print(os.getcwd())\n",
    "\n",
    "# Get your current folder and subfolder event data\n",
    "filepath = os.getcwd() + '/event_data'\n",
    "\n",
    "# Create a for loop to create a list of files and collect each filepath\n",
    "for root, dirs, files in os.walk(filepath):\n",
    "    \n",
    "# join the file path and roots with the subdirectories using glob\n",
    "    file_path_list = glob.glob(os.path.join(root,'*'))\n",
    "    #print(file_path_list)"
   ]
  },
  {
   "cell_type": "markdown",
   "metadata": {
    "editable": true
   },
   "source": [
    "#### Processing the files to create the data file csv that will be used for Apache Casssandra tables"
   ]
  },
  {
   "cell_type": "code",
   "execution_count": 3,
   "metadata": {
    "editable": true
   },
   "outputs": [],
   "source": [
    "# initiating an empty list of rows that will be generated from each file\n",
    "full_data_rows_list = [] \n",
    "    \n",
    "# for every filepath in the file path list \n",
    "for f in file_path_list:\n",
    "\n",
    "# reading csv file \n",
    "    with open(f, 'r', encoding = 'utf8', newline='') as csvfile: \n",
    "        # creating a csv reader object \n",
    "        csvreader = csv.reader(csvfile) \n",
    "        next(csvreader)\n",
    "        \n",
    " # extracting each data row one by one and append it        \n",
    "        for line in csvreader:\n",
    "            #print(line)\n",
    "            full_data_rows_list.append(line) \n",
    "            \n",
    "# uncomment the code below if you would like to get total number of rows \n",
    "#print(len(full_data_rows_list))\n",
    "# uncomment the code below if you would like to check to see what the list of event data rows will look like\n",
    "#print(full_data_rows_list)\n",
    "\n",
    "# creating a smaller event data csv file called event_datafile_full csv that will be used to insert data into the \\\n",
    "# Apache Cassandra tables\n",
    "csv.register_dialect('myDialect', quoting=csv.QUOTE_ALL, skipinitialspace=True)\n",
    "\n",
    "with open('event_datafile_new.csv', 'w', encoding = 'utf8', newline='') as f:\n",
    "    writer = csv.writer(f, dialect='myDialect')\n",
    "    writer.writerow(['artist','firstName','gender','itemInSession','lastName','length',\\\n",
    "                'level','location','sessionId','song','userId'])\n",
    "    for row in full_data_rows_list:\n",
    "        if (row[0] == ''):\n",
    "            continue\n",
    "        writer.writerow((row[0], row[2], row[3], row[4], row[5], row[6], row[7], row[8], row[12], row[13], row[16]))\n"
   ]
  },
  {
   "cell_type": "code",
   "execution_count": 4,
   "metadata": {
    "editable": true
   },
   "outputs": [
    {
     "name": "stdout",
     "output_type": "stream",
     "text": [
      "6820\n"
     ]
    }
   ],
   "source": [
    "# check the number of rows in your csv file\n",
    "num_new_rows = 0\n",
    "with open('event_datafile_new.csv', 'r', encoding = 'utf8') as f:\n",
    "    num_new_rows = sum(1 for line in f)\n",
    "    # deduct one for the header row\n",
    "    num_new_rows = num_new_rows - 1\n",
    "    print(num_new_rows)"
   ]
  },
  {
   "cell_type": "markdown",
   "metadata": {
    "editable": true
   },
   "source": [
    "# Part II. Complete the Apache Cassandra coding portion of your project. \n",
    "\n",
    "Now you are ready to work with the CSV file titled <font color=red>event_datafile_new.csv</font>, located within the Workspace directory.  The event_datafile_new.csv contains the following columns: \n",
    "- artist \n",
    "- firstName of user\n",
    "- gender of user\n",
    "- item number in session\n",
    "- last name of user\n",
    "- length of the song\n",
    "- level (paid or free song)\n",
    "- location of the user\n",
    "- sessionId\n",
    "- song title\n",
    "- userId\n",
    "\n",
    "The image below is a screenshot of what the denormalized data should appear like in the <font color=red>**event_datafile_new.csv**</font> after the code above is run:<br>\n",
    "\n",
    "<img src=\"images/image_event_datafile_new.jpg\">"
   ]
  },
  {
   "cell_type": "markdown",
   "metadata": {
    "editable": true
   },
   "source": [
    "## Initialize database connection"
   ]
  },
  {
   "cell_type": "markdown",
   "metadata": {
    "editable": true
   },
   "source": [
    "#### Creating a Cluster"
   ]
  },
  {
   "cell_type": "code",
   "execution_count": 5,
   "metadata": {
    "editable": true
   },
   "outputs": [],
   "source": [
    "# This should make a connection to a Cassandra instance your local machine \n",
    "# (127.0.0.1)\n",
    "\n",
    "from cassandra.cluster import Cluster\n",
    "cluster = Cluster()\n",
    "\n",
    "# To establish connection and begin executing queries, need a session\n",
    "session = cluster.connect()"
   ]
  },
  {
   "cell_type": "markdown",
   "metadata": {
    "editable": true
   },
   "source": [
    "#### Create Keyspace"
   ]
  },
  {
   "cell_type": "code",
   "execution_count": 6,
   "metadata": {
    "editable": true
   },
   "outputs": [],
   "source": [
    "try:\n",
    "    session.execute(\"\"\"\n",
    "    CREATE KEYSPACE IF NOT EXISTS udacity \n",
    "    WITH REPLICATION = \n",
    "    { 'class' : 'SimpleStrategy', 'replication_factor' : 1 }\"\"\"\n",
    ")\n",
    "\n",
    "except Exception as e:\n",
    "    print(e)"
   ]
  },
  {
   "cell_type": "markdown",
   "metadata": {
    "editable": true
   },
   "source": [
    "#### Set Keyspace"
   ]
  },
  {
   "cell_type": "code",
   "execution_count": 7,
   "metadata": {
    "editable": true
   },
   "outputs": [],
   "source": [
    "try:\n",
    "    session.set_keyspace('udacity')\n",
    "except Exception as e:\n",
    "    print(e)"
   ]
  },
  {
   "cell_type": "markdown",
   "metadata": {
    "editable": true
   },
   "source": [
    "Now we need to create tables to run the following queries. Remember, with Apache Cassandra you model the database tables on the queries you want to run."
   ]
  },
  {
   "cell_type": "markdown",
   "metadata": {
    "editable": true
   },
   "source": [
    "## Create tables"
   ]
  },
  {
   "cell_type": "markdown",
   "metadata": {
    "editable": true
   },
   "source": [
    "**Print out column number and name for convenience**"
   ]
  },
  {
   "cell_type": "code",
   "execution_count": 8,
   "metadata": {
    "editable": true
   },
   "outputs": [
    {
     "name": "stdout",
     "output_type": "stream",
     "text": [
      "0: artist\n",
      "1: firstName\n",
      "2: gender\n",
      "3: itemInSession\n",
      "4: lastName\n",
      "5: length\n",
      "6: level\n",
      "7: location\n",
      "8: sessionId\n",
      "9: song\n",
      "10: userId\n"
     ]
    }
   ],
   "source": [
    "file = 'event_datafile_new.csv'\n",
    "\n",
    "with open(file, encoding = 'utf8') as f:\n",
    "    csvreader = csv.reader(f)\n",
    "    cols = next(csvreader)\n",
    "    for i, t in enumerate(cols):\n",
    "        print(f'{i}: {t}')"
   ]
  },
  {
   "cell_type": "markdown",
   "metadata": {
    "editable": true
   },
   "source": [
    "### Table 1 - song_played\n",
    "#### Question to answer\n",
    "Give me the artist, song title and song's length in the music app history that was heard during sessionId = 338, and itemInSession = 4\n",
    "\n",
    "#### Data model\n",
    "* sessionId *int* **primary key**\n",
    "* itemInSession *int* **clustering column**\n",
    "* artist *text*\n",
    "* song *text*\n",
    "* length *float*\n",
    "\n",
    "We use sessionId as primary key as that is our main filtering option. In addition, itemInSession is used as a clustering column. This enforces queries to use both sessionId and itemInSession as inputs and the remaining columns in the table are the data that we want to get out of the query."
   ]
  },
  {
   "cell_type": "code",
   "execution_count": 9,
   "metadata": {
    "editable": true
   },
   "outputs": [],
   "source": [
    "query = \"\"\"\n",
    "CREATE TABLE IF NOT EXISTS song_played (\n",
    "    sessionId int,\n",
    "    itemInSession int,\n",
    "    artist text,\n",
    "    song text,\n",
    "    length float,\n",
    "    PRIMARY KEY (sessionId, itemInSession)\n",
    ")\n",
    "\"\"\"\n",
    "\n",
    "try:\n",
    "    session.execute(query)\n",
    "except Exception as e:\n",
    "    print(e)"
   ]
  },
  {
   "cell_type": "markdown",
   "metadata": {
    "editable": true
   },
   "source": [
    "### Table 2 - songs_in_session\n",
    "#### Question to answer\n",
    "Give me only the following: name of artist, song (sorted by itemInSession) and user (first and last name) for userid = 10, sessionid = 182\n",
    "\n",
    "#### Data model\n",
    "* userId *int* **partition key**\n",
    "* sessionId *int* **partition key**\n",
    "* itemInSession *int* **clustering column**\n",
    "* artist *text*\n",
    "* song *text*\n",
    "* firstName *text*\n",
    "* lastName *text*\n",
    "\n",
    "We use userId and sessionId as composite partition key to identify a specific sesseion for a user. itemInSession is used as a clustering column in order to sort the data in the order that the songs were played in the session. The remaining columns in the table are the items we want to use as output for the query."
   ]
  },
  {
   "cell_type": "code",
   "execution_count": 10,
   "metadata": {
    "editable": true
   },
   "outputs": [],
   "source": [
    "query = \"\"\"\n",
    "CREATE TABLE IF NOT EXISTS songs_in_session (\n",
    "    userId int,\n",
    "    sessionId int,\n",
    "    itemInSession int,\n",
    "    artist text,\n",
    "    song text,\n",
    "    firstName text,\n",
    "    lastName text,\n",
    "    PRIMARY KEY ((userId, sessionId), itemInSession)\n",
    ")\n",
    "\"\"\"\n",
    "\n",
    "try:\n",
    "    session.execute(query)\n",
    "except Exception as e:\n",
    "    print(e)"
   ]
  },
  {
   "cell_type": "markdown",
   "metadata": {
    "editable": true
   },
   "source": [
    "### Table 3 - songs_listened_by\n",
    "#### Question to answer\n",
    "Give me every user name (first and last) in my music app history who listened to the song 'All Hands Against His Own'\n",
    "\n",
    "#### Data model\n",
    "* song *text* **primary key**\n",
    "* userId *int* **clustering column**\n",
    "* firstName *text*\n",
    "* lastName *text*\n",
    "\n",
    "We must use song name as primary key as it is the input for out query. In addition, we need to define userId as a clustering column to be able to get each individual listener for a song. The remaining firstName and lastName columns in the table are the items that we want to know."
   ]
  },
  {
   "cell_type": "code",
   "execution_count": 11,
   "metadata": {
    "editable": true
   },
   "outputs": [],
   "source": [
    "query = \"\"\"\n",
    "CREATE TABLE IF NOT EXISTS songs_listened_by (\n",
    "    song text,\n",
    "    userId int,\n",
    "    firstName text,\n",
    "    lastName text,\n",
    "    PRIMARY KEY (song, userId)\n",
    ")\n",
    "\"\"\"\n",
    "\n",
    "try:\n",
    "    session.execute(query)\n",
    "except Exception as e:\n",
    "    print(e)"
   ]
  },
  {
   "cell_type": "markdown",
   "metadata": {
    "editable": true
   },
   "source": [
    "## Insert data"
   ]
  },
  {
   "cell_type": "code",
   "execution_count": 12,
   "metadata": {
    "editable": true
   },
   "outputs": [],
   "source": [
    "def read_item_count(table, primary_key):\n",
    "    \"\"\" Function that reads the total amount of rows in a table.\n",
    "    \n",
    "    Returns amount of items in table upon success. Otherwise returns -1.\n",
    "    \"\"\"\n",
    "    query = f'SELECT COUNT({primary_key}) FROM {table}'\n",
    "    try:\n",
    "        results = session.execute(query)\n",
    "        return results.current_rows[0][0] # first row, first value\n",
    "    except Exception as e:\n",
    "        print(e)\n",
    "        return -1"
   ]
  },
  {
   "cell_type": "code",
   "execution_count": 13,
   "metadata": {
    "editable": true
   },
   "outputs": [],
   "source": [
    "table1_item_count_before = read_item_count('song_played', 'sessionId')\n",
    "table2_item_count_before = read_item_count('songs_in_session', 'userId')\n",
    "table3_item_count_before = read_item_count('songs_listened_by', 'song')"
   ]
  },
  {
   "cell_type": "code",
   "execution_count": 14,
   "metadata": {
    "editable": true
   },
   "outputs": [],
   "source": [
    "file = 'event_datafile_new.csv'\n",
    "\n",
    "# initialize empty lists to keep track of INSERT failures\n",
    "table1_insertfailures = []\n",
    "table2_insertfailures = []\n",
    "table3_insertfailures = []\n",
    "\n",
    "# iterate through input file and make all writes to the tables in the same loop\n",
    "# to avoid iterating the same input file several times.\n",
    "# catch any problemsn upon failure and add the data to failure lists for book-keeping\n",
    "with open(file, encoding = 'utf8') as f:\n",
    "    csvreader = csv.reader(f)\n",
    "    next(csvreader) # skip header\n",
    "    for line in csvreader:\n",
    "        try:\n",
    "            # TABLE 1\n",
    "            query = \"INSERT INTO song_played (sessionId, itemInSession, artist, song, length)\"\n",
    "            query = query + \" VALUES (%s, %s, %s, %s, %s)\"\n",
    "            session.execute(query, (int(line[8]), int(line[3]), line[0], line[9], float(line[5])))\n",
    "        except Exception as e:\n",
    "            table1_insertfailures.extend(line)\n",
    "            \n",
    "        try:\n",
    "            # TABLE 2\n",
    "            query = \"INSERT INTO songs_in_session (userId, sessionId, itemInSession, artist, song, firstName, lastName)\"\n",
    "            query = query + \" VALUES (%s, %s, %s, %s, %s, %s, %s)\"\n",
    "            session.execute(query, (int(line[10]), int(line[8]), int(line[3]), line[0], line[9], line[1], line[4]))\n",
    "        except Exception as e:\n",
    "            table2_insertfailures.extend(line)\n",
    "            \n",
    "        try:\n",
    "            # TABLE 3\n",
    "            query = \"INSERT INTO songs_listened_by (song, userId, firstName, lastName)\"\n",
    "            query = query + \" VALUES (%s, %s, %s, %s)\"\n",
    "            session.execute(query, (line[9], int(line[10]), line[1], line[4]))\n",
    "        except Exception as e:\n",
    "            table3_insertfailures.extend(line)            "
   ]
  },
  {
   "cell_type": "markdown",
   "metadata": {
    "editable": true
   },
   "source": [
    "#### Verify that data has been inserted to the table\n",
    "We've read the amount of rows in the table before and after the INSERT operation.\n",
    "In case the amount of rows is the same or if the lists tha contain information about failed INSERTS contain data we know that something went wrong.\n",
    "\n",
    "These checks are redundant from the point of view that we want to identify failures during operation but I decided to keep both since the difference in item amounts give us information of how many rows were written. The lists of failed INSERST on the other hand could give us valuable information to debug any issues that arise."
   ]
  },
  {
   "cell_type": "code",
   "execution_count": 15,
   "metadata": {
    "editable": true,
    "scrolled": true
   },
   "outputs": [],
   "source": [
    "table1_item_count_after = read_item_count('song_played', 'sessionId')\n",
    "table2_item_count_after = read_item_count('songs_in_session', 'userId')\n",
    "table3_item_count_after = read_item_count('songs_listened_by', 'song')"
   ]
  },
  {
   "cell_type": "code",
   "execution_count": 16,
   "metadata": {
    "editable": true
   },
   "outputs": [
    {
     "name": "stdout",
     "output_type": "stream",
     "text": [
      "Amount of rows in input file: 6820\n",
      "Inserted/updated 6820 rows to table 1.\n",
      "Inserted/updated 6820 rows to table 2.\n",
      "Inserted/updated 6618 rows to table 3.\n"
     ]
    }
   ],
   "source": [
    "print(f\"Amount of rows in input file: {num_new_rows}\")\n",
    "\n",
    "if table1_item_count_after == table1_item_count_before or len(table1_insertfailures):\n",
    "    print(\"There were problems inserting data into table 1\")\n",
    "else:\n",
    "    print(f\"Inserted/updated {table1_item_count_after-table1_item_count_before} rows to table 1.\")\n",
    "\n",
    "if table2_item_count_after == table2_item_count_before or len(table2_insertfailures):\n",
    "    print(\"There were problems inserting data into table 2\")\n",
    "else:\n",
    "    print(f\"Inserted/updated {table2_item_count_after-table2_item_count_before} rows to table 2.\")\n",
    "    \n",
    "if table3_item_count_after == table3_item_count_before or len(table3_insertfailures):\n",
    "    print(\"There were problems inserting data into table 3\")\n",
    "else:\n",
    "    print(f\"Inserted/updated {table3_item_count_after-table3_item_count_before} rows to table 3.\")"
   ]
  },
  {
   "cell_type": "markdown",
   "metadata": {
    "editable": true
   },
   "source": [
    "## Create queries to ask the following three questions of the data"
   ]
  },
  {
   "cell_type": "code",
   "execution_count": 17,
   "metadata": {
    "editable": true
   },
   "outputs": [],
   "source": [
    "def run_query(query, params):\n",
    "    \"\"\"Separate function for running a query in order to avoid\n",
    "    having to use the same try cathces everywhere.\n",
    "    \"\"\"\n",
    "    try:\n",
    "        return session.execute(query, params)\n",
    "    except Exception as e:\n",
    "        print(e)\n",
    "        return None"
   ]
  },
  {
   "cell_type": "markdown",
   "metadata": {
    "editable": true
   },
   "source": [
    "### 1. Give me the artist, song title and song's length in the music app history that was heard during  sessionId = 338, and itemInSession  = 4"
   ]
  },
  {
   "cell_type": "code",
   "execution_count": 18,
   "metadata": {
    "editable": true
   },
   "outputs": [
    {
     "name": "stdout",
     "output_type": "stream",
     "text": [
      "Row(artist='Faithless', song='Music Matters (Mark Knight Dub)', length=495.30731201171875)\n"
     ]
    }
   ],
   "source": [
    "query = \"\"\"\n",
    "SELECT artist, song, length \n",
    "FROM song_played\n",
    "WHERE sessionId = %s AND itemInSession = %s\n",
    "\"\"\"\n",
    "results = run_query(query, (338,4))\n",
    "print(results[0])"
   ]
  },
  {
   "cell_type": "markdown",
   "metadata": {
    "editable": true
   },
   "source": [
    "### 2. Give me only the following: name of artist, song (sorted by itemInSession) and user (first and last name) for userid = 10, sessionid = 182"
   ]
  },
  {
   "cell_type": "code",
   "execution_count": 19,
   "metadata": {
    "editable": true
   },
   "outputs": [
    {
     "name": "stdout",
     "output_type": "stream",
     "text": [
      "Row(artist='Down To The Bone', song=\"Keep On Keepin' On\", firstname='Sylvie', lastname='Cruz')\n",
      "Row(artist='Three Drives', song='Greece 2000', firstname='Sylvie', lastname='Cruz')\n",
      "Row(artist='Sebastien Tellier', song='Kilometer', firstname='Sylvie', lastname='Cruz')\n",
      "Row(artist='Lonnie Gordon', song='Catch You Baby (Steve Pitron & Max Sanna Radio Edit)', firstname='Sylvie', lastname='Cruz')\n"
     ]
    }
   ],
   "source": [
    "query = \"\"\"\n",
    "SELECT artist, song, firstName, lastName\n",
    "FROM songs_in_session\n",
    "WHERE userId = %s AND sessionId = %s\n",
    "\"\"\"\n",
    "results = run_query(query, (10,182))\n",
    "if results:\n",
    "    for item in results:\n",
    "        print(item)      "
   ]
  },
  {
   "cell_type": "markdown",
   "metadata": {
    "editable": true
   },
   "source": [
    "### 3. Give me every user name (first and last) in my music app history who listened to the song 'All Hands Against His Own'"
   ]
  },
  {
   "cell_type": "code",
   "execution_count": 20,
   "metadata": {
    "editable": true
   },
   "outputs": [
    {
     "name": "stdout",
     "output_type": "stream",
     "text": [
      "Row(firstname='Jacqueline', lastname='Lynch')\n",
      "Row(firstname='Tegan', lastname='Levine')\n",
      "Row(firstname='Sara', lastname='Johnson')\n"
     ]
    }
   ],
   "source": [
    "query = \"\"\"\n",
    "SELECT firstName, lastName\n",
    "FROM songs_listened_by\n",
    "WHERE song = %s\n",
    "\"\"\"\n",
    "results = run_query(query, ['All Hands Against His Own'])\n",
    "if results:\n",
    "    for item in results:\n",
    "        print(item) "
   ]
  },
  {
   "cell_type": "markdown",
   "metadata": {
    "editable": true
   },
   "source": [
    "### Drop the tables before closing out the sessions"
   ]
  },
  {
   "cell_type": "code",
   "execution_count": 21,
   "metadata": {
    "editable": true
   },
   "outputs": [],
   "source": [
    "try: \n",
    "    session.execute(\"DROP TABLE song_played\")\n",
    "except Exception as e: \n",
    "    print (e)\n",
    "try: \n",
    "    session.execute(\"DROP TABLE songs_in_session\")\n",
    "except Exception as e: \n",
    "    print (e)\n",
    "try: \n",
    "    session.execute(\"DROP TABLE songs_listened_by\")\n",
    "except Exception as e:\n",
    "    print (e)"
   ]
  },
  {
   "cell_type": "markdown",
   "metadata": {
    "editable": true
   },
   "source": [
    "### Close the session and cluster connection¶"
   ]
  },
  {
   "cell_type": "code",
   "execution_count": 22,
   "metadata": {
    "editable": true
   },
   "outputs": [],
   "source": [
    "session.shutdown()\n",
    "cluster.shutdown()"
   ]
  }
 ],
 "metadata": {
  "kernelspec": {
   "display_name": "Python 3",
   "language": "python",
   "name": "python3"
  },
  "language_info": {
   "codemirror_mode": {
    "name": "ipython",
    "version": 3
   },
   "file_extension": ".py",
   "mimetype": "text/x-python",
   "name": "python",
   "nbconvert_exporter": "python",
   "pygments_lexer": "ipython3",
   "version": "3.6.3"
  }
 },
 "nbformat": 4,
 "nbformat_minor": 4
}
